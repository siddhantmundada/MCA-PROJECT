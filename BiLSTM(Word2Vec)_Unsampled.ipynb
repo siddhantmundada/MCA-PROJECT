{
  "nbformat": 4,
  "nbformat_minor": 0,
  "metadata": {
    "colab": {
      "name": "LSTM(Word2Vec)-Unsampled.ipynb",
      "provenance": [],
      "collapsed_sections": []
    },
    "kernelspec": {
      "name": "python3",
      "display_name": "Python 3"
    }
  },
  "cells": [
    {
      "cell_type": "code",
      "metadata": {
        "id": "uAmEZDAKqFvj",
        "outputId": "dfb53903-49c3-490b-c6a1-9a2cdb9f62e2",
        "colab": {
          "base_uri": "https://localhost:8080/"
        }
      },
      "source": [
        "# Mount the drive\n",
        "\n",
        "from google.colab import drive\n",
        "drive.mount('/content/drive')"
      ],
      "execution_count": 4,
      "outputs": [
        {
          "output_type": "stream",
          "text": [
            "Drive already mounted at /content/drive; to attempt to forcibly remount, call drive.mount(\"/content/drive\", force_remount=True).\n"
          ],
          "name": "stdout"
        }
      ]
    },
    {
      "cell_type": "code",
      "metadata": {
        "id": "hNt07qLcqIqv"
      },
      "source": [
        "# Import the necessary libraries\n",
        "\n",
        "import matplotlib.pyplot as plt\n",
        "import numpy as np\n",
        "import pandas as pd\n",
        "import seaborn as sns\n",
        "import tensorflow as tf\n",
        "\n",
        "# Word2Vec API\n",
        "from gensim.models import Word2Vec\n",
        "\n",
        "from IPython.display import display\n",
        "from keras.preprocessing.text import Tokenizer\n",
        "\n",
        "# Model preprocessing APIs\n",
        "from sklearn import preprocessing\n",
        "from sklearn.utils import resample\n",
        "\n",
        "# Model accuracy plotting APIs\n",
        "from sklearn.model_selection import train_test_split\n",
        "from sklearn.metrics import accuracy_score \n",
        "from sklearn.metrics import classification_report\n",
        "from sklearn.metrics import confusion_matrix\n",
        "from sklearn.metrics import f1_score\n",
        "from sklearn.metrics import precision_score\n",
        "from sklearn.metrics import recall_score\n",
        "from sklearn.metrics import roc_auc_score\n",
        "\n",
        "# Model building APIs\n",
        "from tensorflow.keras.layers import Activation\n",
        "from tensorflow.keras.layers import Bidirectional\n",
        "from tensorflow.keras.layers import Dropout\n",
        "from tensorflow.keras.layers import Dense\n",
        "from tensorflow.keras.layers import Embedding\n",
        "from tensorflow.keras.layers import Input\n",
        "from tensorflow.keras.layers import LSTM\n",
        "\n",
        "from tensorflow.keras.models import Model\n",
        "from tensorflow.keras.models import Sequential\n",
        "from tensorflow.keras.preprocessing.sequence import pad_sequences\n",
        "from tensorflow.keras.preprocessing.text import Tokenizer\n",
        "\n",
        "from tensorflow.keras.callbacks import ModelCheckpoint\n",
        "from tensorflow.keras.callbacks import ReduceLROnPlateau\n",
        "from tensorflow.keras.utils import plot_model\n",
        "\n",
        "pd.options.display.max_columns = None\n",
        "pd.options.display.max_rows = None"
      ],
      "execution_count": 5,
      "outputs": []
    },
    {
      "cell_type": "code",
      "metadata": {
        "id": "2pZQtLC-qVCF"
      },
      "source": [
        "# Set path variables\n",
        "\n",
        "project_path = '/content/drive/My Drive/Colab/'\n",
        "file_name ='TempOutput_1.xlsx'"
      ],
      "execution_count": 6,
      "outputs": []
    },
    {
      "cell_type": "code",
      "metadata": {
        "id": "67ED6lNRqcaS",
        "outputId": "780f838d-c076-44df-859b-93d49f3b6068",
        "colab": {
          "base_uri": "https://localhost:8080/"
        }
      },
      "source": [
        "# Import the dataframe\n",
        "\n",
        "df_to_process=pd.read_excel(project_path + file_name)\n",
        "df_to_process.info()"
      ],
      "execution_count": 7,
      "outputs": [
        {
          "output_type": "stream",
          "text": [
            "<class 'pandas.core.frame.DataFrame'>\n",
            "RangeIndex: 7909 entries, 0 to 7908\n",
            "Data columns (total 7 columns):\n",
            " #   Column             Non-Null Count  Dtype \n",
            "---  ------             --------------  ----- \n",
            " 0   Unnamed: 0         7909 non-null   int64 \n",
            " 1   Short description  7909 non-null   object\n",
            " 2   Description        7906 non-null   object\n",
            " 3   Assignment group   7909 non-null   object\n",
            " 4   New Description    7876 non-null   object\n",
            " 5   Language           7909 non-null   object\n",
            " 6   Lemmatized clean   7909 non-null   object\n",
            "dtypes: int64(1), object(6)\n",
            "memory usage: 432.6+ KB\n"
          ],
          "name": "stdout"
        }
      ]
    },
    {
      "cell_type": "code",
      "metadata": {
        "id": "qFenneLtq7cc"
      },
      "source": [
        "# Drop columns not needed for Model building\n",
        "\n",
        "df_to_process.drop([\"Unnamed: 0\",\"Short description\", \"Description\", \"Language\"],axis=1,inplace=True)"
      ],
      "execution_count": 8,
      "outputs": []
    },
    {
      "cell_type": "code",
      "metadata": {
        "id": "2tUdpw0Vq-wI",
        "outputId": "2965da14-1880-4f6e-dd1d-f1f01bb7edb0",
        "colab": {
          "base_uri": "https://localhost:8080/",
          "height": 204
        }
      },
      "source": [
        "df_to_process.head(5)"
      ],
      "execution_count": 9,
      "outputs": [
        {
          "output_type": "execute_result",
          "data": {
            "text/html": [
              "<div>\n",
              "<style scoped>\n",
              "    .dataframe tbody tr th:only-of-type {\n",
              "        vertical-align: middle;\n",
              "    }\n",
              "\n",
              "    .dataframe tbody tr th {\n",
              "        vertical-align: top;\n",
              "    }\n",
              "\n",
              "    .dataframe thead th {\n",
              "        text-align: right;\n",
              "    }\n",
              "</style>\n",
              "<table border=\"1\" class=\"dataframe\">\n",
              "  <thead>\n",
              "    <tr style=\"text-align: right;\">\n",
              "      <th></th>\n",
              "      <th>Assignment group</th>\n",
              "      <th>New Description</th>\n",
              "      <th>Lemmatized clean</th>\n",
              "    </tr>\n",
              "  </thead>\n",
              "  <tbody>\n",
              "    <tr>\n",
              "      <th>0</th>\n",
              "      <td>GRP_0</td>\n",
              "      <td>login issue verified user details employee man...</td>\n",
              "      <td>['login', 'issue', 'verify', 'user', 'detail',...</td>\n",
              "    </tr>\n",
              "    <tr>\n",
              "      <th>1</th>\n",
              "      <td>GRP_0</td>\n",
              "      <td>outlook received from hmjdrvpb komuaywn team m...</td>\n",
              "      <td>['outlook', 'receive', 'hmjdrvpb', 'komuaywn',...</td>\n",
              "    </tr>\n",
              "    <tr>\n",
              "      <th>2</th>\n",
              "      <td>GRP_0</td>\n",
              "      <td>cannot log in to vpn received from eylqgodm yb...</td>\n",
              "      <td>['log', 'vpn', 'receive', 'eylqgodm', 'ybqkwia...</td>\n",
              "    </tr>\n",
              "    <tr>\n",
              "      <th>3</th>\n",
              "      <td>GRP_0</td>\n",
              "      <td>unable to access hr tool page unable to access...</td>\n",
              "      <td>['unable', 'access', 'hr', 'tool', 'page', 'un...</td>\n",
              "    </tr>\n",
              "    <tr>\n",
              "      <th>4</th>\n",
              "      <td>GRP_0</td>\n",
              "      <td>skype error skype error</td>\n",
              "      <td>['skype', 'error', 'skype', 'error']</td>\n",
              "    </tr>\n",
              "  </tbody>\n",
              "</table>\n",
              "</div>"
            ],
            "text/plain": [
              "  Assignment group                                    New Description  \\\n",
              "0            GRP_0  login issue verified user details employee man...   \n",
              "1            GRP_0  outlook received from hmjdrvpb komuaywn team m...   \n",
              "2            GRP_0  cannot log in to vpn received from eylqgodm yb...   \n",
              "3            GRP_0  unable to access hr tool page unable to access...   \n",
              "4            GRP_0                            skype error skype error   \n",
              "\n",
              "                                    Lemmatized clean  \n",
              "0  ['login', 'issue', 'verify', 'user', 'detail',...  \n",
              "1  ['outlook', 'receive', 'hmjdrvpb', 'komuaywn',...  \n",
              "2  ['log', 'vpn', 'receive', 'eylqgodm', 'ybqkwia...  \n",
              "3  ['unable', 'access', 'hr', 'tool', 'page', 'un...  \n",
              "4               ['skype', 'error', 'skype', 'error']  "
            ]
          },
          "metadata": {
            "tags": []
          },
          "execution_count": 9
        }
      ]
    },
    {
      "cell_type": "code",
      "metadata": {
        "id": "yEG8xAsk2F4J"
      },
      "source": [
        "df_to_process = df_to_process.dropna(axis=0)"
      ],
      "execution_count": 10,
      "outputs": []
    },
    {
      "cell_type": "code",
      "metadata": {
        "id": "4D8unQkwtoGT",
        "outputId": "9301270e-d249-4005-f8ad-285b526b1ec0",
        "colab": {
          "base_uri": "https://localhost:8080/"
        }
      },
      "source": [
        "# Label encode the assignment groups\n",
        "\n",
        "label_encoder = preprocessing.LabelEncoder() \n",
        "  \n",
        "df_to_process['Assignment group ID']= label_encoder.fit_transform(df_to_process['Assignment group']) \n",
        "df_to_process['Assignment group ID'].unique()"
      ],
      "execution_count": 11,
      "outputs": [
        {
          "output_type": "execute_result",
          "data": {
            "text/plain": [
              "array([ 0,  1, 23, 34, 45, 56, 67, 72, 73,  2,  3,  4,  5,  6,  7,  8,  9,\n",
              "       10, 11, 12, 13, 14, 15, 16, 17, 18, 19, 20, 21, 22, 24, 25, 27, 28,\n",
              "       29, 30, 31, 32, 33, 35, 36, 37, 38, 39, 40, 41, 42, 44, 46, 47, 48,\n",
              "       49, 50, 51, 43, 52, 53, 54, 55, 57, 58, 26, 59, 60, 61, 62, 63, 64,\n",
              "       65, 66, 68, 69, 70, 71])"
            ]
          },
          "metadata": {
            "tags": []
          },
          "execution_count": 11
        }
      ]
    },
    {
      "cell_type": "code",
      "metadata": {
        "id": "UPKUVXNZ-4tX"
      },
      "source": [
        "# Function to generate word tokens\n",
        "\n",
        "def wordTokenizer(dataframe):\n",
        "    tokenizer = Tokenizer(num_words=numWords,filters='!\"#$%&()*+,-./:;<=>?@[\\\\]^_`{|}~\\t\\n',lower=True,split=' ', char_level=False)\n",
        "    tokenizer.fit_on_texts(dataframe)\n",
        "    dataframe = tokenizer.texts_to_sequences(dataframe)\n",
        "    return tokenizer,dataframe"
      ],
      "execution_count": 12,
      "outputs": []
    },
    {
      "cell_type": "code",
      "metadata": {
        "id": "ondqXRiHuD20"
      },
      "source": [
        "# Word2Vec the dataframe and store the embedding result\n",
        "\n",
        "sentences = [line.split(' ') for line in df_to_process['New Description']] \n",
        "word2vec = Word2Vec(sentences=sentences,min_count=1)\n",
        "word2vec.wv.save_word2vec_format(project_path+'word2vec.txt')"
      ],
      "execution_count": 13,
      "outputs": []
    },
    {
      "cell_type": "code",
      "metadata": {
        "id": "5XFRJImZuEob",
        "outputId": "05c4e137-48f4-4fff-a02c-4a18414e3e4c",
        "colab": {
          "base_uri": "https://localhost:8080/"
        }
      },
      "source": [
        "# Load the embedding into memory\n",
        "\n",
        "embedding_indices = dict()\n",
        "f = open(project_path+'word2vec.txt')\n",
        "\n",
        "for line in f:\n",
        "  values = line.split()\n",
        "  word = values[0]\n",
        "  coeff = np.array(values[1:], dtype='float32')\n",
        "  embedding_indices[word] = coeff\n",
        "f.close()\n",
        "\n",
        "len(embedding_indices)"
      ],
      "execution_count": 14,
      "outputs": [
        {
          "output_type": "execute_result",
          "data": {
            "text/plain": [
              "15389"
            ]
          },
          "metadata": {
            "tags": []
          },
          "execution_count": 14
        }
      ]
    },
    {
      "cell_type": "code",
      "metadata": {
        "id": "S-AqksO56pVP"
      },
      "source": [
        "results = pd.DataFrame()\n",
        "predictedResults = pd.DataFrame()"
      ],
      "execution_count": 15,
      "outputs": []
    },
    {
      "cell_type": "code",
      "metadata": {
        "id": "u7IjWCec_JB6"
      },
      "source": [
        "max_len = 300\n",
        "tokenizer = Tokenizer(split=' ')\n",
        "tokenizer.fit_on_texts(df_to_process[\"New Description\"].values)\n",
        "X_seq = tokenizer.texts_to_sequences(df_to_process[\"New Description\"].values)\n",
        "X_padded = pad_sequences(X_seq, maxlen=max_len)"
      ],
      "execution_count": 16,
      "outputs": []
    },
    {
      "cell_type": "code",
      "metadata": {
        "id": "JSxc9UjJIjKZ",
        "outputId": "f361ac3a-4939-4f96-896b-e203448e33e6",
        "colab": {
          "base_uri": "https://localhost:8080/"
        }
      },
      "source": [
        "numWords = len(tokenizer.word_index) + 1\n",
        "epochs = 10\n",
        "batch_size=100\n",
        "numWords"
      ],
      "execution_count": 17,
      "outputs": [
        {
          "output_type": "execute_result",
          "data": {
            "text/plain": [
              "15389"
            ]
          },
          "metadata": {
            "tags": []
          },
          "execution_count": 17
        }
      ]
    },
    {
      "cell_type": "code",
      "metadata": {
        "id": "k6Ih_FN2_xlD"
      },
      "source": [
        "# Try the BiLSTM model on the raw or unsampled data and predict the accuracy.\n",
        "\n",
        "# Tokenize\n",
        "tokenizer, X = wordTokenizer(df_to_process['New Description'])\n",
        "y = np.asarray(df_to_process['Assignment group ID'])\n",
        "X = pad_sequences(X,maxlen=max_len)"
      ],
      "execution_count": 18,
      "outputs": []
    },
    {
      "cell_type": "code",
      "metadata": {
        "id": "bXx3vrlQuVr9",
        "outputId": "f4c2925a-ddcf-47dc-8b08-cabd2b1266c4",
        "colab": {
          "base_uri": "https://localhost:8080/"
        }
      },
      "source": [
        "# Create embedding matrix\n",
        "\n",
        "embedding_matrix = np.zeros((numWords+1,100))\n",
        "\n",
        "for i,word in tokenizer.index_word.items():\n",
        "  if i<numWords+1:\n",
        "    embedding_vector = embedding_indices.get(word)\n",
        "    if embedding_vector is not None:\n",
        "      embedding_matrix[i] = embedding_vector\n",
        "\n",
        "embedding_matrix"
      ],
      "execution_count": 19,
      "outputs": [
        {
          "output_type": "execute_result",
          "data": {
            "text/plain": [
              "array([[ 0.        ,  0.        ,  0.        , ...,  0.        ,\n",
              "         0.        ,  0.        ],\n",
              "       [-0.34595269, -0.82772446, -0.88963568, ..., -0.73123723,\n",
              "         0.4247953 ,  0.51067954],\n",
              "       [-0.37731153,  0.01297032, -0.4810777 , ...,  0.06237094,\n",
              "        -0.47493449,  0.45205283],\n",
              "       ...,\n",
              "       [ 0.00470336,  0.0027298 , -0.00415757, ..., -0.01238738,\n",
              "        -0.00663385,  0.00763759],\n",
              "       [ 0.00969864,  0.003274  , -0.0072833 , ..., -0.02107823,\n",
              "        -0.00313074,  0.01483126],\n",
              "       [ 0.        ,  0.        ,  0.        , ...,  0.        ,\n",
              "         0.        ,  0.        ]])"
            ]
          },
          "metadata": {
            "tags": []
          },
          "execution_count": 19
        }
      ]
    },
    {
      "cell_type": "code",
      "metadata": {
        "id": "YheKYV7quZet",
        "outputId": "28c15f3e-4090-4039-c7f6-e3094fc65565",
        "colab": {
          "base_uri": "https://localhost:8080/"
        }
      },
      "source": [
        "# Perform the train-test split\n",
        "\n",
        "X_train, X_test, y_train, y_test = train_test_split(X,y,test_size = 0.2)\n",
        "X_train,X_test,y_train,y_test"
      ],
      "execution_count": 23,
      "outputs": [
        {
          "output_type": "execute_result",
          "data": {
            "text/plain": [
              "(array([[   0,    0,    0, ...,    9,   36,  157],\n",
              "        [   0,    0,    0, ...,   65,    1,  128],\n",
              "        [   0,    0,    0, ...,  213, 6266, 4920],\n",
              "        ...,\n",
              "        [   0,    0,    0, ...,  330,  360,  132],\n",
              "        [   0,    0,    0, ..., 1905,    3,   88],\n",
              "        [   0,    0,    0, ...,   67,  911,  191]], dtype=int32),\n",
              " array([[   0,    0,    0, ...,    2,   33,  132],\n",
              "        [   0,    0,    0, ..., 2380, 3373, 3374],\n",
              "        [   0,    0,    0, ...,   56,  539,  132],\n",
              "        ...,\n",
              "        [   0,    0,    0, ...,   23,   34,  558],\n",
              "        [   0,    0,    0, ...,   29,   23,   34],\n",
              "        [   0,    0,    0, ...,  470,  491, 2941]], dtype=int32),\n",
              " array([23,  0,  0, ...,  0,  0, 55]),\n",
              " array([ 0,  4, 11, ..., 12,  0, 36]))"
            ]
          },
          "metadata": {
            "tags": []
          },
          "execution_count": 23
        }
      ]
    },
    {
      "cell_type": "code",
      "metadata": {
        "id": "6leC6fDzudb3",
        "outputId": "0b2d6cd3-4c71-4a85-eb1c-a6848807b133",
        "colab": {
          "base_uri": "https://localhost:8080/"
        }
      },
      "source": [
        "# Build the Bi-LSTM model\n",
        "\n",
        "input_layer = Input(shape=(max_len,),dtype=tf.int64)\n",
        "embed = Embedding(numWords+1,output_dim=100,input_length=max_len,weights=[embedding_matrix], trainable=True)(input_layer)  #weights=[embedding_matrix]\n",
        "lstm=Bidirectional(LSTM(128))(embed)\n",
        "drop=Dropout(0.3)(lstm)\n",
        "dense =Dense(100,activation='relu')(drop)\n",
        "out=Dense((len((pd.Series(y_train)).unique()) + 1),activation='softmax')(dense)   \n",
        "\n",
        "model = Model(input_layer,out)\n",
        "model.compile(loss='sparse_categorical_crossentropy',optimizer=\"adam\",metrics=['accuracy'])\n",
        "\n",
        "model.summary()\n",
        "plot_model(model,to_file=project_path + \"Bi-LSTM(Word2Vec)_Unsampled_Model.jpg\")\n",
        "\n",
        "checkpoint = ModelCheckpoint('model-{epoch:03d}-{val_accuracy:03f}.h5', verbose=1, monitor='val_accuracy',save_best_only=True, mode='auto') \n",
        "reduceLoss = ReduceLROnPlateau(monitor='val_loss', factor=0.2,patience=2, min_lr=0.0001)"
      ],
      "execution_count": 24,
      "outputs": [
        {
          "output_type": "stream",
          "text": [
            "Model: \"functional_3\"\n",
            "_________________________________________________________________\n",
            "Layer (type)                 Output Shape              Param #   \n",
            "=================================================================\n",
            "input_2 (InputLayer)         [(None, 300)]             0         \n",
            "_________________________________________________________________\n",
            "embedding_1 (Embedding)      (None, 300, 100)          1539000   \n",
            "_________________________________________________________________\n",
            "bidirectional_1 (Bidirection (None, 256)               234496    \n",
            "_________________________________________________________________\n",
            "dropout_1 (Dropout)          (None, 256)               0         \n",
            "_________________________________________________________________\n",
            "dense_2 (Dense)              (None, 100)               25700     \n",
            "_________________________________________________________________\n",
            "dense_3 (Dense)              (None, 74)                7474      \n",
            "=================================================================\n",
            "Total params: 1,806,670\n",
            "Trainable params: 1,806,670\n",
            "Non-trainable params: 0\n",
            "_________________________________________________________________\n"
          ],
          "name": "stdout"
        }
      ]
    },
    {
      "cell_type": "code",
      "metadata": {
        "id": "dxrS-3fn7Kp1",
        "outputId": "91ebf0b2-d5a4-4613-c6ed-b7125d619327",
        "colab": {
          "base_uri": "https://localhost:8080/"
        }
      },
      "source": [
        "model_history = model.fit(X_train,y_train,batch_size=batch_size, epochs=epochs, callbacks=[checkpoint,reduceLoss], validation_data=(X_test,y_test))"
      ],
      "execution_count": 25,
      "outputs": [
        {
          "output_type": "stream",
          "text": [
            "Epoch 1/10\n",
            "63/63 [==============================] - ETA: 0s - loss: 2.5909 - accuracy: 0.4917\n",
            "Epoch 00001: val_accuracy improved from -inf to 0.54188, saving model to model-001-0.541878.h5\n",
            "63/63 [==============================] - 108s 2s/step - loss: 2.5909 - accuracy: 0.4917 - val_loss: 2.0599 - val_accuracy: 0.5419\n",
            "Epoch 2/10\n",
            "63/63 [==============================] - ETA: 0s - loss: 2.0268 - accuracy: 0.5437\n",
            "Epoch 00002: val_accuracy improved from 0.54188 to 0.55266, saving model to model-002-0.552665.h5\n",
            "63/63 [==============================] - 108s 2s/step - loss: 2.0268 - accuracy: 0.5437 - val_loss: 1.9217 - val_accuracy: 0.5527\n",
            "Epoch 3/10\n",
            "63/63 [==============================] - ETA: 0s - loss: 1.8848 - accuracy: 0.5552\n",
            "Epoch 00003: val_accuracy improved from 0.55266 to 0.56091, saving model to model-003-0.560914.h5\n",
            "63/63 [==============================] - 107s 2s/step - loss: 1.8848 - accuracy: 0.5552 - val_loss: 1.8287 - val_accuracy: 0.5609\n",
            "Epoch 4/10\n",
            "63/63 [==============================] - ETA: 0s - loss: 1.7939 - accuracy: 0.5632\n",
            "Epoch 00004: val_accuracy improved from 0.56091 to 0.56599, saving model to model-004-0.565990.h5\n",
            "63/63 [==============================] - 108s 2s/step - loss: 1.7939 - accuracy: 0.5632 - val_loss: 1.7745 - val_accuracy: 0.5660\n",
            "Epoch 5/10\n",
            "63/63 [==============================] - ETA: 0s - loss: 1.6772 - accuracy: 0.5784\n",
            "Epoch 00005: val_accuracy improved from 0.56599 to 0.57741, saving model to model-005-0.577411.h5\n",
            "63/63 [==============================] - 108s 2s/step - loss: 1.6772 - accuracy: 0.5784 - val_loss: 1.6849 - val_accuracy: 0.5774\n",
            "Epoch 6/10\n",
            "63/63 [==============================] - ETA: 0s - loss: 1.5467 - accuracy: 0.5998\n",
            "Epoch 00006: val_accuracy did not improve from 0.57741\n",
            "63/63 [==============================] - 107s 2s/step - loss: 1.5467 - accuracy: 0.5998 - val_loss: 1.8364 - val_accuracy: 0.5051\n",
            "Epoch 7/10\n",
            "63/63 [==============================] - ETA: 0s - loss: 1.5059 - accuracy: 0.6021\n",
            "Epoch 00007: val_accuracy improved from 0.57741 to 0.58566, saving model to model-007-0.585660.h5\n",
            "63/63 [==============================] - 108s 2s/step - loss: 1.5059 - accuracy: 0.6021 - val_loss: 1.6738 - val_accuracy: 0.5857\n",
            "Epoch 8/10\n",
            "63/63 [==============================] - ETA: 0s - loss: 1.3298 - accuracy: 0.6371\n",
            "Epoch 00008: val_accuracy did not improve from 0.58566\n",
            "63/63 [==============================] - 108s 2s/step - loss: 1.3298 - accuracy: 0.6371 - val_loss: 1.6256 - val_accuracy: 0.5850\n",
            "Epoch 9/10\n",
            "63/63 [==============================] - ETA: 0s - loss: 1.1863 - accuracy: 0.6641\n",
            "Epoch 00009: val_accuracy improved from 0.58566 to 0.59201, saving model to model-009-0.592005.h5\n",
            "63/63 [==============================] - 108s 2s/step - loss: 1.1863 - accuracy: 0.6641 - val_loss: 1.6443 - val_accuracy: 0.5920\n",
            "Epoch 10/10\n",
            "63/63 [==============================] - ETA: 0s - loss: 1.0907 - accuracy: 0.6857\n",
            "Epoch 00010: val_accuracy did not improve from 0.59201\n",
            "63/63 [==============================] - 110s 2s/step - loss: 1.0907 - accuracy: 0.6857 - val_loss: 1.6815 - val_accuracy: 0.5838\n"
          ],
          "name": "stdout"
        }
      ]
    },
    {
      "cell_type": "code",
      "metadata": {
        "id": "4AvoGSGQIKin",
        "outputId": "c32bcb66-bcc2-4dd5-82ad-74c1ecff0247",
        "colab": {
          "base_uri": "https://localhost:8080/",
          "height": 294
        }
      },
      "source": [
        "# Plot model losses\n",
        "\n",
        "loss_values = model_history.history['loss']\n",
        "val_loss_values = model_history.history['val_loss']\n",
        "\n",
        "epochs = range(1, len(loss_values) + 1)\n",
        "\n",
        "plt.plot(epochs, loss_values, 'bo', label=\"Training Loss\")\n",
        "plt.plot(epochs, val_loss_values, 'b', label=\"Validation Loss\")\n",
        "\n",
        "plt.title('Bi-LSTM(Word2Vec) on unsampled data - Training and Validation Loss')\n",
        "plt.xlabel('Epochs')\n",
        "plt.ylabel('Loss Value')\n",
        "plt.legend()\n",
        "\n",
        "plt.show()"
      ],
      "execution_count": 26,
      "outputs": [
        {
          "output_type": "display_data",
          "data": {
            "image/png": "[encoded data removed]",
            "text/plain": [
              "<Figure size 432x288 with 1 Axes>"
            ]
          },
          "metadata": {
            "tags": [],
            "needs_background": "light"
          }
        }
      ]
    },
    {
      "cell_type": "code",
      "metadata": {
        "id": "JaNsQD41ILI8",
        "outputId": "ee115e88-d136-4821-aab7-e41aff2174ce",
        "colab": {
          "base_uri": "https://localhost:8080/",
          "height": 294
        }
      },
      "source": [
        "# Plot training and validation accuracies\n",
        "\n",
        "acc_values = model_history.history['accuracy']\n",
        "val_acc_values = model_history.history['val_accuracy']\n",
        "\n",
        "epochs = range(1, len(loss_values) + 1)\n",
        "\n",
        "plt.plot(epochs, acc_values, 'ro', label=\"Training Accuracy\")\n",
        "plt.plot(epochs, val_acc_values, 'r', label=\"Validation Accuracy\")\n",
        "\n",
        "plt.title('Bi-LSTM(Word2Vec) on unsampled data - Training and Validation Accuraccy')\n",
        "plt.xlabel('Epochs')\n",
        "plt.ylabel('Accuracy')\n",
        "plt.legend()\n",
        "\n",
        "plt.show()"
      ],
      "execution_count": 27,
      "outputs": [
        {
          "output_type": "display_data",
          "data": {
            "image/png": "[encoded data removed]",
            "text/plain": [
              "<Figure size 432x288 with 1 Axes>"
            ]
          },
          "metadata": {
            "tags": [],
            "needs_background": "light"
          }
        }
      ]
    },
    {
      "cell_type": "code",
      "metadata": {
        "id": "Y4TwMgUNFRbA",
        "outputId": "51573270-ebcd-41de-9383-57eb3507a620",
        "colab": {
          "base_uri": "https://localhost:8080/",
          "height": 347
        }
      },
      "source": [
        "# Summarize the model history\n",
        "\n",
        "model_df = pd.DataFrame(model_history.history)\n",
        "model_df"
      ],
      "execution_count": 28,
      "outputs": [
        {
          "output_type": "execute_result",
          "data": {
            "text/html": [
              "<div>\n",
              "<style scoped>\n",
              "    .dataframe tbody tr th:only-of-type {\n",
              "        vertical-align: middle;\n",
              "    }\n",
              "\n",
              "    .dataframe tbody tr th {\n",
              "        vertical-align: top;\n",
              "    }\n",
              "\n",
              "    .dataframe thead th {\n",
              "        text-align: right;\n",
              "    }\n",
              "</style>\n",
              "<table border=\"1\" class=\"dataframe\">\n",
              "  <thead>\n",
              "    <tr style=\"text-align: right;\">\n",
              "      <th></th>\n",
              "      <th>loss</th>\n",
              "      <th>accuracy</th>\n",
              "      <th>val_loss</th>\n",
              "      <th>val_accuracy</th>\n",
              "      <th>lr</th>\n",
              "    </tr>\n",
              "  </thead>\n",
              "  <tbody>\n",
              "    <tr>\n",
              "      <th>0</th>\n",
              "      <td>2.590919</td>\n",
              "      <td>0.491746</td>\n",
              "      <td>2.059931</td>\n",
              "      <td>0.541878</td>\n",
              "      <td>0.001</td>\n",
              "    </tr>\n",
              "    <tr>\n",
              "      <th>1</th>\n",
              "      <td>2.026844</td>\n",
              "      <td>0.543651</td>\n",
              "      <td>1.921705</td>\n",
              "      <td>0.552665</td>\n",
              "      <td>0.001</td>\n",
              "    </tr>\n",
              "    <tr>\n",
              "      <th>2</th>\n",
              "      <td>1.884818</td>\n",
              "      <td>0.555238</td>\n",
              "      <td>1.828696</td>\n",
              "      <td>0.560914</td>\n",
              "      <td>0.001</td>\n",
              "    </tr>\n",
              "    <tr>\n",
              "      <th>3</th>\n",
              "      <td>1.793860</td>\n",
              "      <td>0.563175</td>\n",
              "      <td>1.774456</td>\n",
              "      <td>0.565990</td>\n",
              "      <td>0.001</td>\n",
              "    </tr>\n",
              "    <tr>\n",
              "      <th>4</th>\n",
              "      <td>1.677173</td>\n",
              "      <td>0.578413</td>\n",
              "      <td>1.684860</td>\n",
              "      <td>0.577411</td>\n",
              "      <td>0.001</td>\n",
              "    </tr>\n",
              "    <tr>\n",
              "      <th>5</th>\n",
              "      <td>1.546688</td>\n",
              "      <td>0.599841</td>\n",
              "      <td>1.836435</td>\n",
              "      <td>0.505076</td>\n",
              "      <td>0.001</td>\n",
              "    </tr>\n",
              "    <tr>\n",
              "      <th>6</th>\n",
              "      <td>1.505949</td>\n",
              "      <td>0.602063</td>\n",
              "      <td>1.673810</td>\n",
              "      <td>0.585660</td>\n",
              "      <td>0.001</td>\n",
              "    </tr>\n",
              "    <tr>\n",
              "      <th>7</th>\n",
              "      <td>1.329751</td>\n",
              "      <td>0.637143</td>\n",
              "      <td>1.625634</td>\n",
              "      <td>0.585025</td>\n",
              "      <td>0.001</td>\n",
              "    </tr>\n",
              "    <tr>\n",
              "      <th>8</th>\n",
              "      <td>1.186250</td>\n",
              "      <td>0.664127</td>\n",
              "      <td>1.644304</td>\n",
              "      <td>0.592005</td>\n",
              "      <td>0.001</td>\n",
              "    </tr>\n",
              "    <tr>\n",
              "      <th>9</th>\n",
              "      <td>1.090733</td>\n",
              "      <td>0.685714</td>\n",
              "      <td>1.681478</td>\n",
              "      <td>0.583756</td>\n",
              "      <td>0.001</td>\n",
              "    </tr>\n",
              "  </tbody>\n",
              "</table>\n",
              "</div>"
            ],
            "text/plain": [
              "       loss  accuracy  val_loss  val_accuracy     lr\n",
              "0  2.590919  0.491746  2.059931      0.541878  0.001\n",
              "1  2.026844  0.543651  1.921705      0.552665  0.001\n",
              "2  1.884818  0.555238  1.828696      0.560914  0.001\n",
              "3  1.793860  0.563175  1.774456      0.565990  0.001\n",
              "4  1.677173  0.578413  1.684860      0.577411  0.001\n",
              "5  1.546688  0.599841  1.836435      0.505076  0.001\n",
              "6  1.505949  0.602063  1.673810      0.585660  0.001\n",
              "7  1.329751  0.637143  1.625634      0.585025  0.001\n",
              "8  1.186250  0.664127  1.644304      0.592005  0.001\n",
              "9  1.090733  0.685714  1.681478      0.583756  0.001"
            ]
          },
          "metadata": {
            "tags": []
          },
          "execution_count": 28
        }
      ]
    },
    {
      "cell_type": "code",
      "metadata": {
        "id": "b8fWV4HR3hT_"
      },
      "source": [
        "# Thank you"
      ],
      "execution_count": null,
      "outputs": []
    }
  ]
}