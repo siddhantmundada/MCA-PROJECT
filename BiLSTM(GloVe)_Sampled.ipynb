{
  "nbformat": 4,
  "nbformat_minor": 0,
  "metadata": {
    "colab": {
      "name": "LSTM(GloVe)-Sampled.ipynb",
      "provenance": [],
      "collapsed_sections": []
    },
    "kernelspec": {
      "name": "python3",
      "display_name": "Python 3"
    }
  },
  "cells": [
    {
      "cell_type": "code",
      "metadata": {
        "id": "uAmEZDAKqFvj",
        "outputId": "34a4eaff-e88f-4c4d-97ec-dc69eb341eca",
        "colab": {
          "base_uri": "https://localhost:8080/"
        }
      },
      "source": [
        "# Mount the drive\n",
        "\n",
        "from google.colab import drive\n",
        "drive.mount('/content/drive')"
      ],
      "execution_count": 2,
      "outputs": [
        {
          "output_type": "stream",
          "text": [
            "Drive already mounted at /content/drive; to attempt to forcibly remount, call drive.mount(\"/content/drive\", force_remount=True).\n"
          ],
          "name": "stdout"
        }
      ]
    },
    {
      "cell_type": "code",
      "metadata": {
        "id": "hNt07qLcqIqv"
      },
      "source": [
        "# Import the necessary libraries\n",
        "\n",
        "import matplotlib.pyplot as plt\n",
        "import numpy as np\n",
        "import pandas as pd\n",
        "import seaborn as sns\n",
        "import tensorflow as tf\n",
        "\n",
        "from IPython.display import display\n",
        "from keras.preprocessing.text import Tokenizer\n",
        "\n",
        "# Model preprocessing APIs\n",
        "from sklearn import preprocessing\n",
        "from sklearn.utils import resample\n",
        "\n",
        "# Model accuracy plotting APIs\n",
        "from sklearn.model_selection import train_test_split\n",
        "from sklearn.metrics import accuracy_score \n",
        "from sklearn.metrics import classification_report\n",
        "from sklearn.metrics import confusion_matrix\n",
        "from sklearn.metrics import f1_score\n",
        "from sklearn.metrics import precision_score\n",
        "from sklearn.metrics import recall_score\n",
        "from sklearn.metrics import roc_auc_score\n",
        "\n",
        "# Model building APIs\n",
        "from tensorflow.keras.layers import Activation\n",
        "from tensorflow.keras.layers import Bidirectional\n",
        "from tensorflow.keras.layers import Dropout\n",
        "from tensorflow.keras.layers import Dense\n",
        "from tensorflow.keras.layers import Embedding\n",
        "from tensorflow.keras.layers import Input\n",
        "from tensorflow.keras.layers import LSTM\n",
        "\n",
        "from tensorflow.keras.models import Model\n",
        "from tensorflow.keras.models import Sequential\n",
        "from tensorflow.keras.preprocessing.sequence import pad_sequences\n",
        "from tensorflow.keras.preprocessing.text import Tokenizer\n",
        "\n",
        "from tensorflow.keras.callbacks import ModelCheckpoint\n",
        "from tensorflow.keras.callbacks import ReduceLROnPlateau\n",
        "from tensorflow.keras.utils import plot_model\n",
        "\n",
        "from zipfile import ZipFile\n",
        "\n",
        "pd.options.display.max_columns = None\n",
        "pd.options.display.max_rows = None"
      ],
      "execution_count": 3,
      "outputs": []
    },
    {
      "cell_type": "code",
      "metadata": {
        "id": "2pZQtLC-qVCF"
      },
      "source": [
        "# Set path variables\n",
        "\n",
        "project_path = '/content/drive/My Drive/Colab/'\n",
        "file_name ='TempOutput_1.xlsx'"
      ],
      "execution_count": 4,
      "outputs": []
    },
    {
      "cell_type": "code",
      "metadata": {
        "id": "67ED6lNRqcaS",
        "outputId": "51b9f342-1353-4e3c-c66a-71eda0e7b30a",
        "colab": {
          "base_uri": "https://localhost:8080/"
        }
      },
      "source": [
        "# Import the dataframe\n",
        "\n",
        "unsampled_df=pd.read_excel(project_path+file_name)\n",
        "unsampled_df.info()"
      ],
      "execution_count": 5,
      "outputs": [
        {
          "output_type": "stream",
          "text": [
            "<class 'pandas.core.frame.DataFrame'>\n",
            "RangeIndex: 7909 entries, 0 to 7908\n",
            "Data columns (total 7 columns):\n",
            " #   Column             Non-Null Count  Dtype \n",
            "---  ------             --------------  ----- \n",
            " 0   Unnamed: 0         7909 non-null   int64 \n",
            " 1   Short description  7909 non-null   object\n",
            " 2   Description        7906 non-null   object\n",
            " 3   Assignment group   7909 non-null   object\n",
            " 4   New Description    7876 non-null   object\n",
            " 5   Language           7909 non-null   object\n",
            " 6   Lemmatized clean   7909 non-null   object\n",
            "dtypes: int64(1), object(6)\n",
            "memory usage: 432.6+ KB\n"
          ],
          "name": "stdout"
        }
      ]
    },
    {
      "cell_type": "code",
      "metadata": {
        "id": "qFenneLtq7cc"
      },
      "source": [
        "# Drop columns not needed for Model building\n",
        "\n",
        "unsampled_df.drop([\"Unnamed: 0\",\"Short description\", \"Description\", \"Language\"],axis=1,inplace=True)"
      ],
      "execution_count": 6,
      "outputs": []
    },
    {
      "cell_type": "code",
      "metadata": {
        "id": "2tUdpw0Vq-wI",
        "outputId": "e24fff42-0979-46eb-cddf-59c69e6585d5",
        "colab": {
          "base_uri": "https://localhost:8080/",
          "height": 289
        }
      },
      "source": [
        "unsampled_df.head(5)"
      ],
      "execution_count": 7,
      "outputs": [
        {
          "output_type": "execute_result",
          "data": {
            "text/html": [
              "<div>\n",
              "<style scoped>\n",
              "    .dataframe tbody tr th:only-of-type {\n",
              "        vertical-align: middle;\n",
              "    }\n",
              "\n",
              "    .dataframe tbody tr th {\n",
              "        vertical-align: top;\n",
              "    }\n",
              "\n",
              "    .dataframe thead th {\n",
              "        text-align: right;\n",
              "    }\n",
              "</style>\n",
              "<table border=\"1\" class=\"dataframe\">\n",
              "  <thead>\n",
              "    <tr style=\"text-align: right;\">\n",
              "      <th></th>\n",
              "      <th>Assignment group</th>\n",
              "      <th>New Description</th>\n",
              "      <th>Lemmatized clean</th>\n",
              "    </tr>\n",
              "  </thead>\n",
              "  <tbody>\n",
              "    <tr>\n",
              "      <th>0</th>\n",
              "      <td>GRP_0</td>\n",
              "      <td>login issue verified user details employee man...</td>\n",
              "      <td>['login', 'issue', 'verify', 'user', 'detail',...</td>\n",
              "    </tr>\n",
              "    <tr>\n",
              "      <th>1</th>\n",
              "      <td>GRP_0</td>\n",
              "      <td>outlook received from hmjdrvpb komuaywn team m...</td>\n",
              "      <td>['outlook', 'receive', 'hmjdrvpb', 'komuaywn',...</td>\n",
              "    </tr>\n",
              "    <tr>\n",
              "      <th>2</th>\n",
              "      <td>GRP_0</td>\n",
              "      <td>cannot log in to vpn received from eylqgodm yb...</td>\n",
              "      <td>['log', 'vpn', 'receive', 'eylqgodm', 'ybqkwia...</td>\n",
              "    </tr>\n",
              "    <tr>\n",
              "      <th>3</th>\n",
              "      <td>GRP_0</td>\n",
              "      <td>unable to access hr tool page unable to access...</td>\n",
              "      <td>['unable', 'access', 'hr', 'tool', 'page', 'un...</td>\n",
              "    </tr>\n",
              "    <tr>\n",
              "      <th>4</th>\n",
              "      <td>GRP_0</td>\n",
              "      <td>skype error skype error</td>\n",
              "      <td>['skype', 'error', 'skype', 'error']</td>\n",
              "    </tr>\n",
              "  </tbody>\n",
              "</table>\n",
              "</div>"
            ],
            "text/plain": [
              "  Assignment group                                    New Description  \\\n",
              "0            GRP_0  login issue verified user details employee man...   \n",
              "1            GRP_0  outlook received from hmjdrvpb komuaywn team m...   \n",
              "2            GRP_0  cannot log in to vpn received from eylqgodm yb...   \n",
              "3            GRP_0  unable to access hr tool page unable to access...   \n",
              "4            GRP_0                            skype error skype error   \n",
              "\n",
              "                                    Lemmatized clean  \n",
              "0  ['login', 'issue', 'verify', 'user', 'detail',...  \n",
              "1  ['outlook', 'receive', 'hmjdrvpb', 'komuaywn',...  \n",
              "2  ['log', 'vpn', 'receive', 'eylqgodm', 'ybqkwia...  \n",
              "3  ['unable', 'access', 'hr', 'tool', 'page', 'un...  \n",
              "4               ['skype', 'error', 'skype', 'error']  "
            ]
          },
          "metadata": {
            "tags": []
          },
          "execution_count": 7
        }
      ]
    },
    {
      "cell_type": "code",
      "metadata": {
        "id": "ojLQpmIKZHrh"
      },
      "source": [
        "unsampled_df = unsampled_df.dropna(axis=0)"
      ],
      "execution_count": 8,
      "outputs": []
    },
    {
      "cell_type": "code",
      "metadata": {
        "id": "OVirHrAqYFuw"
      },
      "source": [
        "# Non-Grp_0 dataframe\n",
        "\n",
        "others_df = unsampled_df[unsampled_df['Assignment group'] != 'GRP_0']"
      ],
      "execution_count": 9,
      "outputs": []
    },
    {
      "cell_type": "code",
      "metadata": {
        "id": "yyEE6Aj8YOFH",
        "outputId": "2b7feeff-aa42-47b5-b83e-5ee2765dee6a",
        "colab": {
          "base_uri": "https://localhost:8080/"
        }
      },
      "source": [
        "# Get the upper/lower limit to resample\n",
        "\n",
        "maxOthers = others_df['Assignment group'].value_counts().max()\n",
        "maxOthers"
      ],
      "execution_count": 10,
      "outputs": [
        {
          "output_type": "execute_result",
          "data": {
            "text/plain": [
              "645"
            ]
          },
          "metadata": {
            "tags": []
          },
          "execution_count": 10
        }
      ]
    },
    {
      "cell_type": "code",
      "metadata": {
        "id": "euuBlqDGW1cw"
      },
      "source": [
        "# Upsample the minority classes and downsample the majority classes\n",
        "\n",
        "df_to_process = unsampled_df[0:0]\n",
        "for grp in unsampled_df['Assignment group'].unique():\n",
        "    assign_grp_df = unsampled_df[unsampled_df['Assignment group'] == grp]\n",
        "    resampled = resample(assign_grp_df, replace=True, n_samples=maxOthers, random_state=123)\n",
        "    df_to_process = df_to_process.append(resampled)"
      ],
      "execution_count": 11,
      "outputs": []
    },
    {
      "cell_type": "code",
      "metadata": {
        "id": "4D8unQkwtoGT",
        "outputId": "f7f9462a-1b99-4469-8a2e-b2ee483637ec",
        "colab": {
          "base_uri": "https://localhost:8080/"
        }
      },
      "source": [
        "# Label encode the assignment groups\n",
        "\n",
        "label_encoder = preprocessing.LabelEncoder() \n",
        "  \n",
        "df_to_process['Assignment group ID']= label_encoder.fit_transform(df_to_process['Assignment group']) \n",
        "df_to_process['Assignment group ID'].unique()"
      ],
      "execution_count": 12,
      "outputs": [
        {
          "output_type": "execute_result",
          "data": {
            "text/plain": [
              "array([ 0,  1, 23, 34, 45, 56, 67, 72, 73,  2,  3,  4,  5,  6,  7,  8,  9,\n",
              "       10, 11, 12, 13, 14, 15, 16, 17, 18, 19, 20, 21, 22, 24, 25, 27, 28,\n",
              "       29, 30, 31, 32, 33, 35, 36, 37, 38, 39, 40, 41, 42, 44, 46, 47, 48,\n",
              "       49, 50, 51, 43, 52, 53, 54, 55, 57, 58, 26, 59, 60, 61, 62, 63, 64,\n",
              "       65, 66, 68, 69, 70, 71])"
            ]
          },
          "metadata": {
            "tags": []
          },
          "execution_count": 12
        }
      ]
    },
    {
      "cell_type": "code",
      "metadata": {
        "id": "UPKUVXNZ-4tX"
      },
      "source": [
        "# Function to generate word tokens\n",
        "\n",
        "def wordTokenizer(dataframe):\n",
        "    tokenizer = Tokenizer(num_words=numWords,filters='!\"#$%&()*+,-./:;<=>?@[\\\\]^_`{|}~\\t\\n',lower=True,split=' ', char_level=False)\n",
        "    tokenizer.fit_on_texts(dataframe)\n",
        "    dataframe = tokenizer.texts_to_sequences(dataframe)\n",
        "    return tokenizer,dataframe"
      ],
      "execution_count": 13,
      "outputs": []
    },
    {
      "cell_type": "code",
      "metadata": {
        "id": "ondqXRiHuD20",
        "outputId": "c5c214e6-7569-45bb-879e-6cf11936b404",
        "colab": {
          "base_uri": "https://localhost:8080/"
        }
      },
      "source": [
        "# GloVe the dataframe and store the embedding result\n",
        "\n",
        "glove_file = project_path + \"glove.6B.zip\"\n",
        "print(glove_file)"
      ],
      "execution_count": 14,
      "outputs": [
        {
          "output_type": "stream",
          "text": [
            "/content/drive/My Drive/Colab/glove.6B.zip\n"
          ],
          "name": "stdout"
        }
      ]
    },
    {
      "cell_type": "code",
      "metadata": {
        "id": "ouxQdb92pSgq"
      },
      "source": [
        "#Extract Glove embedding zip file\n",
        "\n",
        "with ZipFile(glove_file, 'r') as z:\n",
        "  z.extractall()"
      ],
      "execution_count": 15,
      "outputs": []
    },
    {
      "cell_type": "code",
      "metadata": {
        "id": "lkbBackp4qgd"
      },
      "source": [
        "# Perform GloVe embeddings\n",
        "\n",
        "EMBEDDING_FILE = './glove.6B.100d.txt'\n",
        "embeddings_glove = {}\n",
        "for o in open(EMBEDDING_FILE):\n",
        "    word = o.split(\" \")[0]\n",
        "    embd = o.split(\" \")[1:]\n",
        "    embd = np.asarray(embd, dtype='float32')\n",
        "    embeddings_glove[word] = embd"
      ],
      "execution_count": 16,
      "outputs": []
    },
    {
      "cell_type": "code",
      "metadata": {
        "id": "S-AqksO56pVP"
      },
      "source": [
        "results = pd.DataFrame()\n",
        "predictedResults = pd.DataFrame()"
      ],
      "execution_count": 17,
      "outputs": []
    },
    {
      "cell_type": "code",
      "metadata": {
        "id": "u7IjWCec_JB6"
      },
      "source": [
        "max_len = 300\n",
        "tokenizer = Tokenizer(split=' ')\n",
        "tokenizer.fit_on_texts(df_to_process[\"New Description\"].values)\n",
        "X_seq = tokenizer.texts_to_sequences(df_to_process[\"New Description\"].values)\n",
        "X_padded = pad_sequences(X_seq, maxlen=max_len)"
      ],
      "execution_count": 18,
      "outputs": []
    },
    {
      "cell_type": "code",
      "metadata": {
        "id": "r_t1UmfoKTHi",
        "outputId": "1ed8cc59-32e8-4539-daaf-16bb1f0323f9",
        "colab": {
          "base_uri": "https://localhost:8080/"
        }
      },
      "source": [
        "numWords = len(tokenizer.word_index) + 1\n",
        "epochs = 10\n",
        "batch_size=100\n",
        "numWords"
      ],
      "execution_count": 19,
      "outputs": [
        {
          "output_type": "execute_result",
          "data": {
            "text/plain": [
              "12343"
            ]
          },
          "metadata": {
            "tags": []
          },
          "execution_count": 19
        }
      ]
    },
    {
      "cell_type": "code",
      "metadata": {
        "id": "k6Ih_FN2_xlD"
      },
      "source": [
        "# Try the BiLSTM model on the sampled data and predict the accuracy.\n",
        "\n",
        "tokenizer, X = wordTokenizer(df_to_process['New Description'])\n",
        "y = np.asarray(df_to_process['Assignment group ID'])\n",
        "X = pad_sequences(X,maxlen=max_len)"
      ],
      "execution_count": 20,
      "outputs": []
    },
    {
      "cell_type": "code",
      "metadata": {
        "id": "bXx3vrlQuVr9",
        "outputId": "de1b9b06-7a12-410f-9a5b-ada3d3ac23de",
        "colab": {
          "base_uri": "https://localhost:8080/"
        }
      },
      "source": [
        "# Create embedding matrix\n",
        "\n",
        "embedding_matrix = np.zeros((numWords+1,100))\n",
        "\n",
        "for i,word in tokenizer.index_word.items():\n",
        "  if i<numWords+1:\n",
        "    embedding_vector = embeddings_glove.get(word)\n",
        "    if embedding_vector is not None:\n",
        "      embedding_matrix[i] = embedding_vector\n",
        "\n",
        "embedding_matrix"
      ],
      "execution_count": 21,
      "outputs": [
        {
          "output_type": "execute_result",
          "data": {
            "text/plain": [
              "array([[ 0.        ,  0.        ,  0.        , ...,  0.        ,\n",
              "         0.        ,  0.        ],\n",
              "       [-0.18970001,  0.050024  ,  0.19084001, ..., -0.39804   ,\n",
              "         0.47646999, -0.15983   ],\n",
              "       [-0.038194  , -0.24487001,  0.72812003, ..., -0.1459    ,\n",
              "         0.82779998,  0.27061999],\n",
              "       ...,\n",
              "       [ 0.        ,  0.        ,  0.        , ...,  0.        ,\n",
              "         0.        ,  0.        ],\n",
              "       [ 0.        ,  0.        ,  0.        , ...,  0.        ,\n",
              "         0.        ,  0.        ],\n",
              "       [ 0.        ,  0.        ,  0.        , ...,  0.        ,\n",
              "         0.        ,  0.        ]])"
            ]
          },
          "metadata": {
            "tags": []
          },
          "execution_count": 21
        }
      ]
    },
    {
      "cell_type": "code",
      "metadata": {
        "id": "YheKYV7quZet",
        "outputId": "48fc2197-af12-4983-f453-0bfa94e9944d",
        "colab": {
          "base_uri": "https://localhost:8080/"
        }
      },
      "source": [
        "# Perform the train-test split\n",
        "\n",
        "X_train, X_test, y_train, y_test = train_test_split(X,y,test_size = 0.3)\n",
        "X_train,X_test,y_train,y_test"
      ],
      "execution_count": 22,
      "outputs": [
        {
          "output_type": "execute_result",
          "data": {
            "text/plain": [
              "(array([[   0,    0,    0, ..., 2523,    4,  391],\n",
              "        [   0,    0,    0, ...,  106, 1639, 1448],\n",
              "        [   0,    0,    0, ...,   10,  206,  147],\n",
              "        ...,\n",
              "        [   0,    0,    0, ...,   14,   43,   20],\n",
              "        [   0,    0,    0, ...,  328,   71, 9097],\n",
              "        [   0,    0,    0, ...,  221,   57,  684]], dtype=int32),\n",
              " array([[2134, 2135,   16, ...,  149,    8,  182],\n",
              "        [   0,    0,    0, ...,    9,  351,  742],\n",
              "        [   0,    0,    0, ...,  808, 2358,  808],\n",
              "        ...,\n",
              "        [   0,    0,    0, ...,   14,   43,   20],\n",
              "        [   0,    0,    0, ...,    3,    2,  140],\n",
              "        [   0,    0,    0, ...,   84,   41, 1009]], dtype=int32),\n",
              " array([23, 51, 41, ..., 56, 28, 12]),\n",
              " array([10, 39, 46, ..., 72, 66,  3]))"
            ]
          },
          "metadata": {
            "tags": []
          },
          "execution_count": 22
        }
      ]
    },
    {
      "cell_type": "code",
      "metadata": {
        "id": "6leC6fDzudb3",
        "outputId": "98804f62-dcbc-47d0-8b85-8bfbe3584282",
        "colab": {
          "base_uri": "https://localhost:8080/"
        }
      },
      "source": [
        "# Build the Bi-LSTM model\n",
        "\n",
        "input_layer = Input(shape=(max_len,),dtype=tf.int64)\n",
        "embed = Embedding(numWords+1,output_dim=100,input_length=max_len,weights=[embedding_matrix], trainable=True)(input_layer)  #weights=[embedding_matrix]\n",
        "lstm=Bidirectional(LSTM(128))(embed)\n",
        "drop=Dropout(0.3)(lstm)\n",
        "dense =Dense(100,activation='relu')(drop)\n",
        "out=Dense((len((pd.Series(y_train)).unique())+1),activation='softmax')(dense)   \n",
        "\n",
        "model = Model(input_layer,out)\n",
        "model.compile(loss='sparse_categorical_crossentropy',optimizer=\"adam\",metrics=['accuracy'])\n",
        "\n",
        "model.summary()\n",
        "plot_model(model,to_file=project_path + \"Bi-LSTM(GloVe)_Sampled_Model.jpg\")\n",
        "\n",
        "checkpoint = ModelCheckpoint('model-{epoch:03d}-{val_accuracy:03f}.h5', verbose=1, monitor='val_accuracy',save_best_only=True, mode='auto') \n",
        "reduceLoss = ReduceLROnPlateau(monitor='val_loss', factor=0.2,patience=2, min_lr=0.0001)"
      ],
      "execution_count": 23,
      "outputs": [
        {
          "output_type": "stream",
          "text": [
            "Model: \"functional_1\"\n",
            "_________________________________________________________________\n",
            "Layer (type)                 Output Shape              Param #   \n",
            "=================================================================\n",
            "input_1 (InputLayer)         [(None, 300)]             0         \n",
            "_________________________________________________________________\n",
            "embedding (Embedding)        (None, 300, 100)          1234400   \n",
            "_________________________________________________________________\n",
            "bidirectional (Bidirectional (None, 256)               234496    \n",
            "_________________________________________________________________\n",
            "dropout (Dropout)            (None, 256)               0         \n",
            "_________________________________________________________________\n",
            "dense (Dense)                (None, 100)               25700     \n",
            "_________________________________________________________________\n",
            "dense_1 (Dense)              (None, 75)                7575      \n",
            "=================================================================\n",
            "Total params: 1,502,171\n",
            "Trainable params: 1,502,171\n",
            "Non-trainable params: 0\n",
            "_________________________________________________________________\n"
          ],
          "name": "stdout"
        }
      ]
    },
    {
      "cell_type": "code",
      "metadata": {
        "id": "dxrS-3fn7Kp1",
        "outputId": "06a0af1d-1273-4cf9-eacf-8c43ca1655d0",
        "colab": {
          "base_uri": "https://localhost:8080/"
        }
      },
      "source": [
        "# Run the model and get the model history\n",
        "\n",
        "model_history = model.fit(X_train,y_train,batch_size=batch_size, epochs=epochs, callbacks=[checkpoint,reduceLoss], validation_data=(X_test,y_test))"
      ],
      "execution_count": 24,
      "outputs": [
        {
          "output_type": "stream",
          "text": [
            "Epoch 1/10\n",
            "334/335 [============================>.] - ETA: 0s - loss: 2.2523 - accuracy: 0.4653\n",
            "Epoch 00001: val_accuracy improved from -inf to 0.72226, saving model to model-001-0.722257.h5\n",
            "335/335 [==============================] - 22s 64ms/step - loss: 2.2518 - accuracy: 0.4654 - val_loss: 1.0282 - val_accuracy: 0.7223\n",
            "Epoch 2/10\n",
            "334/335 [============================>.] - ETA: 0s - loss: 0.7540 - accuracy: 0.7902\n",
            "Epoch 00002: val_accuracy improved from 0.72226 to 0.85956, saving model to model-002-0.859557.h5\n",
            "335/335 [==============================] - 21s 63ms/step - loss: 0.7540 - accuracy: 0.7902 - val_loss: 0.5015 - val_accuracy: 0.8596\n",
            "Epoch 3/10\n",
            "334/335 [============================>.] - ETA: 0s - loss: 0.4198 - accuracy: 0.8784\n",
            "Epoch 00003: val_accuracy improved from 0.85956 to 0.90244, saving model to model-003-0.902437.h5\n",
            "335/335 [==============================] - 21s 63ms/step - loss: 0.4198 - accuracy: 0.8783 - val_loss: 0.3491 - val_accuracy: 0.9024\n",
            "Epoch 4/10\n",
            "334/335 [============================>.] - ETA: 0s - loss: 0.2815 - accuracy: 0.9163\n",
            "Epoch 00004: val_accuracy improved from 0.90244 to 0.92423, saving model to model-004-0.924227.h5\n",
            "335/335 [==============================] - 21s 63ms/step - loss: 0.2816 - accuracy: 0.9163 - val_loss: 0.2682 - val_accuracy: 0.9242\n",
            "Epoch 5/10\n",
            "334/335 [============================>.] - ETA: 0s - loss: 0.2224 - accuracy: 0.9325\n",
            "Epoch 00005: val_accuracy improved from 0.92423 to 0.93191, saving model to model-005-0.931909.h5\n",
            "335/335 [==============================] - 21s 64ms/step - loss: 0.2223 - accuracy: 0.9325 - val_loss: 0.2360 - val_accuracy: 0.9319\n",
            "Epoch 6/10\n",
            "334/335 [============================>.] - ETA: 0s - loss: 0.1879 - accuracy: 0.9427\n",
            "Epoch 00006: val_accuracy improved from 0.93191 to 0.93568, saving model to model-006-0.935680.h5\n",
            "335/335 [==============================] - 21s 63ms/step - loss: 0.1878 - accuracy: 0.9427 - val_loss: 0.2179 - val_accuracy: 0.9357\n",
            "Epoch 7/10\n",
            "334/335 [============================>.] - ETA: 0s - loss: 0.1675 - accuracy: 0.9477\n",
            "Epoch 00007: val_accuracy improved from 0.93568 to 0.94238, saving model to model-007-0.942384.h5\n",
            "335/335 [==============================] - 21s 63ms/step - loss: 0.1675 - accuracy: 0.9477 - val_loss: 0.1970 - val_accuracy: 0.9424\n",
            "Epoch 8/10\n",
            "334/335 [============================>.] - ETA: 0s - loss: 0.1607 - accuracy: 0.9486\n",
            "Epoch 00008: val_accuracy improved from 0.94238 to 0.94315, saving model to model-008-0.943152.h5\n",
            "335/335 [==============================] - 21s 63ms/step - loss: 0.1606 - accuracy: 0.9486 - val_loss: 0.1971 - val_accuracy: 0.9432\n",
            "Epoch 9/10\n",
            "334/335 [============================>.] - ETA: 0s - loss: 0.1456 - accuracy: 0.9528\n",
            "Epoch 00009: val_accuracy did not improve from 0.94315\n",
            "335/335 [==============================] - 21s 63ms/step - loss: 0.1457 - accuracy: 0.9528 - val_loss: 0.1967 - val_accuracy: 0.9411\n",
            "Epoch 10/10\n",
            "334/335 [============================>.] - ETA: 0s - loss: 0.1364 - accuracy: 0.9546\n",
            "Epoch 00010: val_accuracy improved from 0.94315 to 0.94490, saving model to model-010-0.944898.h5\n",
            "335/335 [==============================] - 21s 63ms/step - loss: 0.1363 - accuracy: 0.9547 - val_loss: 0.1918 - val_accuracy: 0.9449\n"
          ],
          "name": "stdout"
        }
      ]
    },
    {
      "cell_type": "code",
      "metadata": {
        "id": "huTr4Up21a_p"
      },
      "source": [
        "# predict probabilities for test set\n",
        "yhat_probs = model.predict(X_test, verbose=0)\n",
        "# predict crisp classes for test set\n",
        "# use argmax per Jason, instead of model.predict_classes if not available. https://machinelearningmastery.com/how-to-calculate-precision-recall-f1-and-more-for-deep-learning-models/\n",
        "yhat_classes = np.argmax(yhat_probs, axis=1)"
      ],
      "execution_count": 25,
      "outputs": []
    },
    {
      "cell_type": "code",
      "metadata": {
        "id": "ISpZzqR2AGoy",
        "outputId": "5ef6129e-1390-4cb2-f00c-08c27dcc2d41",
        "colab": {
          "base_uri": "https://localhost:8080/"
        }
      },
      "source": [
        "# Generate the target label to plot the Confusion Matrix\n",
        "\n",
        "target_names = df_to_process['Assignment group'].unique()\n",
        "target_names"
      ],
      "execution_count": 26,
      "outputs": [
        {
          "output_type": "execute_result",
          "data": {
            "text/plain": [
              "array(['GRP_0', 'GRP_1', 'GRP_3', 'GRP_4', 'GRP_5', 'GRP_6', 'GRP_7',\n",
              "       'GRP_8', 'GRP_9', 'GRP_10', 'GRP_11', 'GRP_12', 'GRP_13', 'GRP_14',\n",
              "       'GRP_15', 'GRP_16', 'GRP_17', 'GRP_18', 'GRP_19', 'GRP_2',\n",
              "       'GRP_20', 'GRP_21', 'GRP_22', 'GRP_23', 'GRP_24', 'GRP_25',\n",
              "       'GRP_26', 'GRP_27', 'GRP_28', 'GRP_29', 'GRP_30', 'GRP_31',\n",
              "       'GRP_33', 'GRP_34', 'GRP_35', 'GRP_36', 'GRP_37', 'GRP_38',\n",
              "       'GRP_39', 'GRP_40', 'GRP_41', 'GRP_42', 'GRP_43', 'GRP_44',\n",
              "       'GRP_45', 'GRP_46', 'GRP_47', 'GRP_49', 'GRP_50', 'GRP_51',\n",
              "       'GRP_52', 'GRP_53', 'GRP_54', 'GRP_55', 'GRP_48', 'GRP_56',\n",
              "       'GRP_57', 'GRP_58', 'GRP_59', 'GRP_60', 'GRP_61', 'GRP_32',\n",
              "       'GRP_62', 'GRP_63', 'GRP_64', 'GRP_65', 'GRP_66', 'GRP_67',\n",
              "       'GRP_68', 'GRP_69', 'GRP_70', 'GRP_71', 'GRP_72', 'GRP_73'],\n",
              "      dtype=object)"
            ]
          },
          "metadata": {
            "tags": []
          },
          "execution_count": 26
        }
      ]
    },
    {
      "cell_type": "code",
      "metadata": {
        "id": "zJ7zjixO2N7V",
        "outputId": "c957c313-e38e-4b0a-a693-5bb8ebd0f9ad",
        "colab": {
          "base_uri": "https://localhost:8080/"
        }
      },
      "source": [
        "# Generate the Confusion Matrix\n",
        "matrix = confusion_matrix(y_test, yhat_classes)\n",
        "print(matrix)"
      ],
      "execution_count": 27,
      "outputs": [
        {
          "output_type": "stream",
          "text": [
            "[[106   0   1 ...   0   0   0]\n",
            " [  0 192   0 ...   0   0   0]\n",
            " [  3   0 166 ...   0   0   0]\n",
            " ...\n",
            " [  0   0   0 ... 172   0   0]\n",
            " [  0   4   2 ...   0 111   0]\n",
            " [  4   0   0 ...   0   1  56]]\n"
          ],
          "name": "stdout"
        }
      ]
    },
    {
      "cell_type": "code",
      "metadata": {
        "id": "6H_WfDF83Abw",
        "outputId": "d3c6cbf8-100d-4a28-e0fe-95ff3174ffac",
        "colab": {
          "base_uri": "https://localhost:8080/"
        }
      },
      "source": [
        "# Generate the Classification Report to print the class level accuracies, here, in the case of multiclass classification.\n",
        "\n",
        "print('Classification Report')\n",
        "print(classification_report(y_test, yhat_classes, target_names=target_names))\n"
      ],
      "execution_count": 28,
      "outputs": [
        {
          "output_type": "stream",
          "text": [
            "Classification Report\n",
            "              precision    recall  f1-score   support\n",
            "\n",
            "       GRP_0       0.77      0.51      0.61       207\n",
            "       GRP_1       0.89      1.00      0.94       192\n",
            "       GRP_3       0.98      0.85      0.91       196\n",
            "       GRP_4       0.98      1.00      0.99       195\n",
            "       GRP_5       0.97      0.84      0.90       199\n",
            "       GRP_6       1.00      0.98      0.99       188\n",
            "       GRP_7       0.99      0.96      0.97       186\n",
            "       GRP_8       1.00      1.00      1.00       173\n",
            "       GRP_9       0.97      1.00      0.98       198\n",
            "      GRP_10       0.99      1.00      1.00       191\n",
            "      GRP_11       0.98      0.95      0.97       175\n",
            "      GRP_12       0.97      0.84      0.90       180\n",
            "      GRP_13       0.83      0.89      0.86       197\n",
            "      GRP_14       0.99      1.00      1.00       189\n",
            "      GRP_15       1.00      1.00      1.00       202\n",
            "      GRP_16       0.98      1.00      0.99       197\n",
            "      GRP_17       0.98      1.00      0.99       188\n",
            "      GRP_18       0.97      0.95      0.96       194\n",
            "      GRP_19       0.99      1.00      0.99       205\n",
            "       GRP_2       0.99      1.00      0.99       198\n",
            "      GRP_20       0.98      1.00      0.99       200\n",
            "      GRP_21       0.94      1.00      0.97       202\n",
            "      GRP_22       0.98      0.97      0.97       193\n",
            "      GRP_23       0.87      0.94      0.90       186\n",
            "      GRP_24       0.99      0.91      0.95       192\n",
            "      GRP_25       0.97      0.93      0.95       182\n",
            "      GRP_26       0.99      1.00      1.00       198\n",
            "      GRP_27       0.95      0.94      0.95       202\n",
            "      GRP_28       0.97      0.98      0.98       202\n",
            "      GRP_29       1.00      1.00      1.00       181\n",
            "      GRP_30       0.99      1.00      0.99       193\n",
            "      GRP_31       1.00      1.00      1.00       187\n",
            "      GRP_33       1.00      1.00      1.00       203\n",
            "      GRP_34       0.99      0.97      0.98       202\n",
            "      GRP_35       0.98      0.96      0.97       192\n",
            "      GRP_36       0.98      1.00      0.99       205\n",
            "      GRP_37       1.00      1.00      1.00       207\n",
            "      GRP_38       0.98      1.00      0.99       193\n",
            "      GRP_39       1.00      1.00      1.00       192\n",
            "      GRP_40       1.00      0.94      0.97       185\n",
            "      GRP_41       0.99      0.83      0.90       196\n",
            "      GRP_42       1.00      1.00      1.00       190\n",
            "      GRP_43       0.77      0.93      0.84       208\n",
            "      GRP_44       0.89      1.00      0.94       179\n",
            "      GRP_45       1.00      1.00      1.00       182\n",
            "      GRP_46       0.95      0.62      0.75       185\n",
            "      GRP_47       0.97      1.00      0.99       204\n",
            "      GRP_49       1.00      1.00      1.00       206\n",
            "      GRP_50       1.00      1.00      1.00       195\n",
            "      GRP_51       1.00      1.00      1.00       213\n",
            "      GRP_52       1.00      1.00      1.00       176\n",
            "      GRP_53       0.99      1.00      1.00       189\n",
            "      GRP_54       0.99      1.00      0.99       198\n",
            "      GRP_55       0.36      1.00      0.53       208\n",
            "      GRP_48       1.00      1.00      1.00       183\n",
            "      GRP_56       0.99      1.00      1.00       206\n",
            "      GRP_57       0.88      0.60      0.72       197\n",
            "      GRP_58       0.98      0.92      0.95       203\n",
            "      GRP_59       1.00      1.00      1.00       200\n",
            "      GRP_60       0.98      1.00      0.99       189\n",
            "      GRP_61       1.00      1.00      1.00       196\n",
            "      GRP_32       1.00      1.00      1.00       198\n",
            "      GRP_62       0.99      1.00      1.00       193\n",
            "      GRP_63       1.00      1.00      1.00       199\n",
            "      GRP_64       1.00      1.00      1.00       187\n",
            "      GRP_65       1.00      1.00      1.00       194\n",
            "      GRP_66       1.00      1.00      1.00       201\n",
            "      GRP_67       0.97      1.00      0.98       180\n",
            "      GRP_68       1.00      1.00      1.00       170\n",
            "      GRP_69       1.00      1.00      1.00       174\n",
            "      GRP_70       0.97      1.00      0.98       194\n",
            "      GRP_71       1.00      1.00      1.00       172\n",
            "      GRP_72       0.67      0.57      0.61       195\n",
            "      GRP_73       0.97      0.26      0.41       212\n",
            "\n",
            "    accuracy                           0.94     14319\n",
            "   macro avg       0.96      0.95      0.95     14319\n",
            "weighted avg       0.96      0.94      0.95     14319\n",
            "\n"
          ],
          "name": "stdout"
        }
      ]
    },
    {
      "cell_type": "code",
      "metadata": {
        "id": "YEURiakZG6p6",
        "outputId": "c8d8873e-efc7-45d2-a1ee-f39114bb1bae",
        "colab": {
          "base_uri": "https://localhost:8080/",
          "height": 324
        }
      },
      "source": [
        "# Plot the Confusion matrix\n",
        "\n",
        "ax= plt.subplot()\n",
        "#plt.subplots(figsize=(10,10))\n",
        "sns.heatmap(matrix,annot=True,ax=ax,cmap='Blues',fmt='d');\n",
        "ax.set_xlabel('Predicted labels');ax.set_ylabel('True/Actual labels');\n",
        "ax.set_title('Confusion Matrix');\n",
        "ax.xaxis.set_ticklabels(target_names);\n",
        "ax.yaxis.set_ticklabels(target_names);"
      ],
      "execution_count": 29,
      "outputs": [
        {
          "output_type": "display_data",
          "data": {
            "image/png": "[encoded data removed]",
            "text/plain": [
              "<Figure size 432x288 with 2 Axes>"
            ]
          },
          "metadata": {
            "tags": [],
            "needs_background": "light"
          }
        }
      ]
    },
    {
      "cell_type": "code",
      "metadata": {
        "id": "GbAQOBgTHj3l",
        "outputId": "c83bb4b4-f402-4263-a5f4-936d3384e728",
        "colab": {
          "base_uri": "https://localhost:8080/"
        }
      },
      "source": [
        "# Summarize the accuracies\n",
        "\n",
        "from sklearn.metrics import accuracy_score\n",
        "\n",
        "accuracy = accuracy_score(y_test, yhat_classes)\n",
        "print('Accuracy: %f' % accuracy)\n",
        "precision = precision_score(y_test, yhat_classes, average='micro')\n",
        "print('Precision: %f' % precision)\n",
        "recall = recall_score(y_test, yhat_classes, average='micro')\n",
        "print('Recall: %f' % recall)\n",
        "f1 = f1_score(y_test, yhat_classes,average='micro')\n",
        "print('F1 score: %f' % f1)"
      ],
      "execution_count": 30,
      "outputs": [
        {
          "output_type": "stream",
          "text": [
            "Accuracy: 0.944898\n",
            "Precision: 0.944898\n",
            "Recall: 0.944898\n",
            "F1 score: 0.944898\n"
          ],
          "name": "stdout"
        }
      ]
    },
    {
      "cell_type": "code",
      "metadata": {
        "id": "oF3cnBr9VF_o",
        "outputId": "059a8574-7d02-46f0-842c-26427667b840",
        "colab": {
          "base_uri": "https://localhost:8080/",
          "height": 295
        }
      },
      "source": [
        "# Plot model losses\n",
        "\n",
        "loss_values = model_history.history['loss']\n",
        "val_loss_values = model_history.history['val_loss']\n",
        "\n",
        "epochs = range(1, len(loss_values) + 1)\n",
        "\n",
        "plt.plot(epochs, loss_values, 'bo', label=\"Training Loss\")\n",
        "plt.plot(epochs, val_loss_values, 'b', label=\"Validation Loss\")\n",
        "\n",
        "plt.title('Bi-LSTM(GloVe) on sampled data - Training and Validation Loss')\n",
        "plt.xlabel('Epochs')\n",
        "plt.ylabel('Loss Value')\n",
        "plt.legend()\n",
        "\n",
        "plt.show()"
      ],
      "execution_count": 31,
      "outputs": [
        {
          "output_type": "display_data",
          "data": {
            "image/png": "[encoded data removed]",
            "text/plain": [
              "<Figure size 432x288 with 1 Axes>"
            ]
          },
          "metadata": {
            "tags": [],
            "needs_background": "light"
          }
        }
      ]
    },
    {
      "cell_type": "code",
      "metadata": {
        "id": "Pn7-u41URKxq",
        "outputId": "a85bc42d-1549-41d4-9648-ac779a18d489",
        "colab": {
          "base_uri": "https://localhost:8080/",
          "height": 295
        }
      },
      "source": [
        "# Plot training and validation accuracies\n",
        "\n",
        "acc_values = model_history.history['accuracy']\n",
        "val_acc_values = model_history.history['val_accuracy']\n",
        "\n",
        "epochs = range(1, len(loss_values) + 1)\n",
        "\n",
        "plt.plot(epochs, acc_values, 'ro', label=\"Training Accuracy\")\n",
        "plt.plot(epochs, val_acc_values, 'r', label=\"Validation Accuracy\")\n",
        "\n",
        "plt.title('Bi-LSTM(GloVe) on sampled data - Training and Validation Accuraccy')\n",
        "plt.xlabel('Epochs')\n",
        "plt.ylabel('Accuracy')\n",
        "plt.legend()\n",
        "\n",
        "plt.show()"
      ],
      "execution_count": 32,
      "outputs": [
        {
          "output_type": "display_data",
          "data": {
            "image/png": "[encoded data removed]",
            "text/plain": [
              "<Figure size 432x288 with 1 Axes>"
            ]
          },
          "metadata": {
            "tags": [],
            "needs_background": "light"
          }
        }
      ]
    },
    {
      "cell_type": "code",
      "metadata": {
        "id": "pnbwRktGU7mG",
        "outputId": "e66312df-5ef8-4a55-be4d-0282c704fe0d",
        "colab": {
          "base_uri": "https://localhost:8080/",
          "height": 359
        }
      },
      "source": [
        "# Summarize the model history\n",
        "\n",
        "model_df = pd.DataFrame(model_history.history)\n",
        "model_df"
      ],
      "execution_count": 33,
      "outputs": [
        {
          "output_type": "execute_result",
          "data": {
            "text/html": [
              "<div>\n",
              "<style scoped>\n",
              "    .dataframe tbody tr th:only-of-type {\n",
              "        vertical-align: middle;\n",
              "    }\n",
              "\n",
              "    .dataframe tbody tr th {\n",
              "        vertical-align: top;\n",
              "    }\n",
              "\n",
              "    .dataframe thead th {\n",
              "        text-align: right;\n",
              "    }\n",
              "</style>\n",
              "<table border=\"1\" class=\"dataframe\">\n",
              "  <thead>\n",
              "    <tr style=\"text-align: right;\">\n",
              "      <th></th>\n",
              "      <th>loss</th>\n",
              "      <th>accuracy</th>\n",
              "      <th>val_loss</th>\n",
              "      <th>val_accuracy</th>\n",
              "      <th>lr</th>\n",
              "    </tr>\n",
              "  </thead>\n",
              "  <tbody>\n",
              "    <tr>\n",
              "      <th>0</th>\n",
              "      <td>2.251849</td>\n",
              "      <td>0.465386</td>\n",
              "      <td>1.028216</td>\n",
              "      <td>0.722257</td>\n",
              "      <td>0.001</td>\n",
              "    </tr>\n",
              "    <tr>\n",
              "      <th>1</th>\n",
              "      <td>0.754033</td>\n",
              "      <td>0.790249</td>\n",
              "      <td>0.501520</td>\n",
              "      <td>0.859557</td>\n",
              "      <td>0.001</td>\n",
              "    </tr>\n",
              "    <tr>\n",
              "      <th>2</th>\n",
              "      <td>0.419844</td>\n",
              "      <td>0.878334</td>\n",
              "      <td>0.349133</td>\n",
              "      <td>0.902437</td>\n",
              "      <td>0.001</td>\n",
              "    </tr>\n",
              "    <tr>\n",
              "      <th>3</th>\n",
              "      <td>0.281623</td>\n",
              "      <td>0.916285</td>\n",
              "      <td>0.268246</td>\n",
              "      <td>0.924227</td>\n",
              "      <td>0.001</td>\n",
              "    </tr>\n",
              "    <tr>\n",
              "      <th>4</th>\n",
              "      <td>0.222347</td>\n",
              "      <td>0.932537</td>\n",
              "      <td>0.236002</td>\n",
              "      <td>0.931909</td>\n",
              "      <td>0.001</td>\n",
              "    </tr>\n",
              "    <tr>\n",
              "      <th>5</th>\n",
              "      <td>0.187849</td>\n",
              "      <td>0.942684</td>\n",
              "      <td>0.217934</td>\n",
              "      <td>0.935680</td>\n",
              "      <td>0.001</td>\n",
              "    </tr>\n",
              "    <tr>\n",
              "      <th>6</th>\n",
              "      <td>0.167533</td>\n",
              "      <td>0.947652</td>\n",
              "      <td>0.197007</td>\n",
              "      <td>0.942384</td>\n",
              "      <td>0.001</td>\n",
              "    </tr>\n",
              "    <tr>\n",
              "      <th>7</th>\n",
              "      <td>0.160648</td>\n",
              "      <td>0.948610</td>\n",
              "      <td>0.197122</td>\n",
              "      <td>0.943152</td>\n",
              "      <td>0.001</td>\n",
              "    </tr>\n",
              "    <tr>\n",
              "      <th>8</th>\n",
              "      <td>0.145717</td>\n",
              "      <td>0.952770</td>\n",
              "      <td>0.196685</td>\n",
              "      <td>0.941057</td>\n",
              "      <td>0.001</td>\n",
              "    </tr>\n",
              "    <tr>\n",
              "      <th>9</th>\n",
              "      <td>0.136313</td>\n",
              "      <td>0.954656</td>\n",
              "      <td>0.191815</td>\n",
              "      <td>0.944898</td>\n",
              "      <td>0.001</td>\n",
              "    </tr>\n",
              "  </tbody>\n",
              "</table>\n",
              "</div>"
            ],
            "text/plain": [
              "       loss  accuracy  val_loss  val_accuracy     lr\n",
              "0  2.251849  0.465386  1.028216      0.722257  0.001\n",
              "1  0.754033  0.790249  0.501520      0.859557  0.001\n",
              "2  0.419844  0.878334  0.349133      0.902437  0.001\n",
              "3  0.281623  0.916285  0.268246      0.924227  0.001\n",
              "4  0.222347  0.932537  0.236002      0.931909  0.001\n",
              "5  0.187849  0.942684  0.217934      0.935680  0.001\n",
              "6  0.167533  0.947652  0.197007      0.942384  0.001\n",
              "7  0.160648  0.948610  0.197122      0.943152  0.001\n",
              "8  0.145717  0.952770  0.196685      0.941057  0.001\n",
              "9  0.136313  0.954656  0.191815      0.944898  0.001"
            ]
          },
          "metadata": {
            "tags": []
          },
          "execution_count": 33
        }
      ]
    },
    {
      "cell_type": "code",
      "metadata": {
        "id": "0pkQq5vbj6LC"
      },
      "source": [
        "# Thank you."
      ],
      "execution_count": null,
      "outputs": []
    }
  ]
}