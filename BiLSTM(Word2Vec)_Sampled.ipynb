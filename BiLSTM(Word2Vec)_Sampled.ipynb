{
  "nbformat": 4,
  "nbformat_minor": 0,
  "metadata": {
    "colab": {
      "name": "LSTM(Word2Vec)-Sampled.ipynb",
      "provenance": [],
      "collapsed_sections": []
    },
    "kernelspec": {
      "name": "python3",
      "display_name": "Python 3"
    },
    "accelerator": "GPU"
  },
  "cells": [
    {
      "cell_type": "code",
      "metadata": {
        "id": "uAmEZDAKqFvj",
        "outputId": "1bb7b976-1213-4ca5-fc06-c4fdd4065489",
        "colab": {
          "base_uri": "https://localhost:8080/"
        }
      },
      "source": [
        "# Mount the drive\n",
        "\n",
        "from google.colab import drive\n",
        "drive.mount('/content/drive')"
      ],
      "execution_count": 39,
      "outputs": [
        {
          "output_type": "stream",
          "text": [
            "Drive already mounted at /content/drive; to attempt to forcibly remount, call drive.mount(\"/content/drive\", force_remount=True).\n"
          ],
          "name": "stdout"
        }
      ]
    },
    {
      "cell_type": "code",
      "metadata": {
        "id": "hNt07qLcqIqv"
      },
      "source": [
        "# Import the necessary libraries\n",
        "\n",
        "import matplotlib.pyplot as plt\n",
        "import numpy as np\n",
        "import pandas as pd\n",
        "import seaborn as sns\n",
        "import tensorflow as tf\n",
        "\n",
        "# Word2Vec API\n",
        "from gensim.models import Word2Vec\n",
        "\n",
        "from IPython.display import display\n",
        "from keras.preprocessing.text import Tokenizer\n",
        "\n",
        "# Model preprocessing APIs\n",
        "from sklearn import preprocessing\n",
        "from sklearn.utils import resample\n",
        "\n",
        "# Model accuracy plotting APIs\n",
        "from sklearn.model_selection import train_test_split\n",
        "from sklearn.metrics import accuracy_score \n",
        "from sklearn.metrics import classification_report\n",
        "from sklearn.metrics import confusion_matrix\n",
        "from sklearn.metrics import f1_score\n",
        "from sklearn.metrics import precision_score\n",
        "from sklearn.metrics import recall_score\n",
        "from sklearn.metrics import roc_auc_score\n",
        "\n",
        "\n",
        "\n",
        "# Model building APIs\n",
        "from tensorflow.keras.layers import Activation\n",
        "from tensorflow.keras.layers import Bidirectional\n",
        "from tensorflow.keras.layers import Dropout\n",
        "from tensorflow.keras.layers import Dense\n",
        "from tensorflow.keras.layers import Embedding\n",
        "from tensorflow.keras.layers import Input\n",
        "from tensorflow.keras.layers import LSTM\n",
        "\n",
        "from tensorflow.keras.models import Model\n",
        "from tensorflow.keras.models import Sequential\n",
        "from tensorflow.keras.preprocessing.sequence import pad_sequences\n",
        "from tensorflow.keras.preprocessing.text import Tokenizer\n",
        "\n",
        "from tensorflow.keras.callbacks import ModelCheckpoint\n",
        "from tensorflow.keras.callbacks import ReduceLROnPlateau\n",
        "from tensorflow.keras.utils import plot_model\n",
        "\n",
        "pd.options.display.max_columns = None\n",
        "pd.options.display.max_rows = None"
      ],
      "execution_count": 40,
      "outputs": []
    },
    {
      "cell_type": "code",
      "metadata": {
        "id": "2pZQtLC-qVCF"
      },
      "source": [
        "# Set path variables\n",
        "\n",
        "project_path = '/content/drive/My Drive/Colab/'\n",
        "file_name ='TempOutput_1.xlsx'"
      ],
      "execution_count": 41,
      "outputs": []
    },
    {
      "cell_type": "code",
      "metadata": {
        "id": "67ED6lNRqcaS",
        "outputId": "2dba71c2-fd77-404c-d1f3-02701de01db3",
        "colab": {
          "base_uri": "https://localhost:8080/"
        }
      },
      "source": [
        "# Import the dataframe\n",
        "\n",
        "unsampled_df=pd.read_excel(project_path+file_name)\n",
        "unsampled_df.info()"
      ],
      "execution_count": 42,
      "outputs": [
        {
          "output_type": "stream",
          "text": [
            "<class 'pandas.core.frame.DataFrame'>\n",
            "RangeIndex: 7909 entries, 0 to 7908\n",
            "Data columns (total 7 columns):\n",
            " #   Column             Non-Null Count  Dtype \n",
            "---  ------             --------------  ----- \n",
            " 0   Unnamed: 0         7909 non-null   int64 \n",
            " 1   Short description  7909 non-null   object\n",
            " 2   Description        7906 non-null   object\n",
            " 3   Assignment group   7909 non-null   object\n",
            " 4   New Description    7876 non-null   object\n",
            " 5   Language           7909 non-null   object\n",
            " 6   Lemmatized clean   7909 non-null   object\n",
            "dtypes: int64(1), object(6)\n",
            "memory usage: 432.6+ KB\n"
          ],
          "name": "stdout"
        }
      ]
    },
    {
      "cell_type": "code",
      "metadata": {
        "id": "qFenneLtq7cc"
      },
      "source": [
        "# Drop columns not needed for Model building\n",
        "\n",
        "unsampled_df.drop([\"Unnamed: 0\",\"Short description\", \"Description\", \"Language\"],axis=1,inplace=True)"
      ],
      "execution_count": 43,
      "outputs": []
    },
    {
      "cell_type": "code",
      "metadata": {
        "id": "2tUdpw0Vq-wI",
        "outputId": "62f0cd85-86b8-47ca-9268-b7f22fd3f715",
        "colab": {
          "base_uri": "https://localhost:8080/",
          "height": 204
        }
      },
      "source": [
        "unsampled_df.head(5)"
      ],
      "execution_count": 44,
      "outputs": [
        {
          "output_type": "execute_result",
          "data": {
            "text/html": [
              "<div>\n",
              "<style scoped>\n",
              "    .dataframe tbody tr th:only-of-type {\n",
              "        vertical-align: middle;\n",
              "    }\n",
              "\n",
              "    .dataframe tbody tr th {\n",
              "        vertical-align: top;\n",
              "    }\n",
              "\n",
              "    .dataframe thead th {\n",
              "        text-align: right;\n",
              "    }\n",
              "</style>\n",
              "<table border=\"1\" class=\"dataframe\">\n",
              "  <thead>\n",
              "    <tr style=\"text-align: right;\">\n",
              "      <th></th>\n",
              "      <th>Assignment group</th>\n",
              "      <th>New Description</th>\n",
              "      <th>Lemmatized clean</th>\n",
              "    </tr>\n",
              "  </thead>\n",
              "  <tbody>\n",
              "    <tr>\n",
              "      <th>0</th>\n",
              "      <td>GRP_0</td>\n",
              "      <td>login issue verified user details employee man...</td>\n",
              "      <td>['login', 'issue', 'verify', 'user', 'detail',...</td>\n",
              "    </tr>\n",
              "    <tr>\n",
              "      <th>1</th>\n",
              "      <td>GRP_0</td>\n",
              "      <td>outlook received from hmjdrvpb komuaywn team m...</td>\n",
              "      <td>['outlook', 'receive', 'hmjdrvpb', 'komuaywn',...</td>\n",
              "    </tr>\n",
              "    <tr>\n",
              "      <th>2</th>\n",
              "      <td>GRP_0</td>\n",
              "      <td>cannot log in to vpn received from eylqgodm yb...</td>\n",
              "      <td>['log', 'vpn', 'receive', 'eylqgodm', 'ybqkwia...</td>\n",
              "    </tr>\n",
              "    <tr>\n",
              "      <th>3</th>\n",
              "      <td>GRP_0</td>\n",
              "      <td>unable to access hr tool page unable to access...</td>\n",
              "      <td>['unable', 'access', 'hr', 'tool', 'page', 'un...</td>\n",
              "    </tr>\n",
              "    <tr>\n",
              "      <th>4</th>\n",
              "      <td>GRP_0</td>\n",
              "      <td>skype error skype error</td>\n",
              "      <td>['skype', 'error', 'skype', 'error']</td>\n",
              "    </tr>\n",
              "  </tbody>\n",
              "</table>\n",
              "</div>"
            ],
            "text/plain": [
              "  Assignment group                                    New Description  \\\n",
              "0            GRP_0  login issue verified user details employee man...   \n",
              "1            GRP_0  outlook received from hmjdrvpb komuaywn team m...   \n",
              "2            GRP_0  cannot log in to vpn received from eylqgodm yb...   \n",
              "3            GRP_0  unable to access hr tool page unable to access...   \n",
              "4            GRP_0                            skype error skype error   \n",
              "\n",
              "                                    Lemmatized clean  \n",
              "0  ['login', 'issue', 'verify', 'user', 'detail',...  \n",
              "1  ['outlook', 'receive', 'hmjdrvpb', 'komuaywn',...  \n",
              "2  ['log', 'vpn', 'receive', 'eylqgodm', 'ybqkwia...  \n",
              "3  ['unable', 'access', 'hr', 'tool', 'page', 'un...  \n",
              "4               ['skype', 'error', 'skype', 'error']  "
            ]
          },
          "metadata": {
            "tags": []
          },
          "execution_count": 44
        }
      ]
    },
    {
      "cell_type": "code",
      "metadata": {
        "id": "ojLQpmIKZHrh"
      },
      "source": [
        "unsampled_df = unsampled_df.dropna(axis=0)"
      ],
      "execution_count": 45,
      "outputs": []
    },
    {
      "cell_type": "code",
      "metadata": {
        "id": "OVirHrAqYFuw"
      },
      "source": [
        "# Non-Grp_0 dataframe\n",
        "\n",
        "others_df = unsampled_df[unsampled_df['Assignment group'] != 'GRP_0']"
      ],
      "execution_count": 46,
      "outputs": []
    },
    {
      "cell_type": "code",
      "metadata": {
        "id": "yyEE6Aj8YOFH",
        "outputId": "a7ad3b42-1a3d-4aa7-8b21-80f5da93e50c",
        "colab": {
          "base_uri": "https://localhost:8080/"
        }
      },
      "source": [
        "# Get the upper/lower limit to resample\n",
        "\n",
        "maxOthers = others_df['Assignment group'].value_counts().max()\n",
        "maxOthers"
      ],
      "execution_count": 47,
      "outputs": [
        {
          "output_type": "execute_result",
          "data": {
            "text/plain": [
              "645"
            ]
          },
          "metadata": {
            "tags": []
          },
          "execution_count": 47
        }
      ]
    },
    {
      "cell_type": "code",
      "metadata": {
        "id": "euuBlqDGW1cw"
      },
      "source": [
        "# Upsample the minority classes and downsample the majority classes\n",
        "\n",
        "df_to_process = unsampled_df[0:0]\n",
        "for grp in unsampled_df['Assignment group'].unique():\n",
        "    assign_grp_df = unsampled_df[unsampled_df['Assignment group'] == grp]\n",
        "    resampled = resample(assign_grp_df, replace=True, n_samples=maxOthers, random_state=123)\n",
        "    df_to_process = df_to_process.append(resampled)"
      ],
      "execution_count": 48,
      "outputs": []
    },
    {
      "cell_type": "code",
      "metadata": {
        "id": "4D8unQkwtoGT",
        "outputId": "3916b361-caeb-4b28-8021-b1a6fd7cfeb2",
        "colab": {
          "base_uri": "https://localhost:8080/"
        }
      },
      "source": [
        "# Label encode the assignment groups\n",
        "  \n",
        "label_encoder = preprocessing.LabelEncoder() \n",
        "  \n",
        "df_to_process['Assignment group ID']= label_encoder.fit_transform(df_to_process['Assignment group']) \n",
        "df_to_process['Assignment group ID'].unique()"
      ],
      "execution_count": 49,
      "outputs": [
        {
          "output_type": "execute_result",
          "data": {
            "text/plain": [
              "array([ 0,  1, 23, 34, 45, 56, 67, 72, 73,  2,  3,  4,  5,  6,  7,  8,  9,\n",
              "       10, 11, 12, 13, 14, 15, 16, 17, 18, 19, 20, 21, 22, 24, 25, 27, 28,\n",
              "       29, 30, 31, 32, 33, 35, 36, 37, 38, 39, 40, 41, 42, 44, 46, 47, 48,\n",
              "       49, 50, 51, 43, 52, 53, 54, 55, 57, 58, 26, 59, 60, 61, 62, 63, 64,\n",
              "       65, 66, 68, 69, 70, 71])"
            ]
          },
          "metadata": {
            "tags": []
          },
          "execution_count": 49
        }
      ]
    },
    {
      "cell_type": "code",
      "metadata": {
        "id": "UPKUVXNZ-4tX"
      },
      "source": [
        "# Function to generate word tokens\n",
        "\n",
        "def wordTokenizer(dataframe):\n",
        "    tokenizer = Tokenizer(num_words=numWords,filters='!\"#$%&()*+,-./:;<=>?@[\\\\]^_`{|}~\\t\\n',lower=True,split=' ', char_level=False)\n",
        "    tokenizer.fit_on_texts(dataframe)\n",
        "    dataframe = tokenizer.texts_to_sequences(dataframe)\n",
        "    return tokenizer,dataframe"
      ],
      "execution_count": 50,
      "outputs": []
    },
    {
      "cell_type": "code",
      "metadata": {
        "id": "ondqXRiHuD20"
      },
      "source": [
        "# Word2Vec the dataframe and store the embedding result\n",
        "\n",
        "sentences = [line.split(' ') for line in df_to_process['New Description']] \n",
        "word2vec = Word2Vec(sentences=sentences,min_count=1)\n",
        "word2vec.wv.save_word2vec_format(project_path + 'word2vec.txt')"
      ],
      "execution_count": 63,
      "outputs": []
    },
    {
      "cell_type": "code",
      "metadata": {
        "id": "5XFRJImZuEob",
        "outputId": "389cf4b1-446c-4445-edcf-60e3d75299b6",
        "colab": {
          "base_uri": "https://localhost:8080/"
        }
      },
      "source": [
        "# Load the embedding into memory\n",
        "\n",
        "embedding_indices = dict()\n",
        "f = open(project_path+'word2vec.txt')\n",
        "\n",
        "for line in f:\n",
        "  values = line.split()\n",
        "  word = values[0]\n",
        "  coeff = np.array(values[1:], dtype='float32')\n",
        "  embedding_indices[word] = coeff\n",
        "f.close()\n",
        "\n",
        "len(embedding_indices)"
      ],
      "execution_count": 64,
      "outputs": [
        {
          "output_type": "execute_result",
          "data": {
            "text/plain": [
              "12343"
            ]
          },
          "metadata": {
            "tags": []
          },
          "execution_count": 64
        }
      ]
    },
    {
      "cell_type": "code",
      "metadata": {
        "id": "S-AqksO56pVP"
      },
      "source": [
        "results = pd.DataFrame()\n",
        "predictedResults = pd.DataFrame()"
      ],
      "execution_count": 65,
      "outputs": []
    },
    {
      "cell_type": "code",
      "metadata": {
        "id": "u7IjWCec_JB6"
      },
      "source": [
        "max_len = 300\n",
        "tokenizer = Tokenizer(split=' ')\n",
        "tokenizer.fit_on_texts(df_to_process[\"New Description\"].values)\n",
        "X_seq = tokenizer.texts_to_sequences(df_to_process[\"New Description\"].values)\n",
        "X_padded = pad_sequences(X_seq, maxlen=max_len)"
      ],
      "execution_count": 66,
      "outputs": []
    },
    {
      "cell_type": "code",
      "metadata": {
        "id": "r_t1UmfoKTHi",
        "outputId": "603cc15b-95b0-49e3-df30-9dad39fb6c59",
        "colab": {
          "base_uri": "https://localhost:8080/"
        }
      },
      "source": [
        "numWords = len(tokenizer.word_index) + 1\n",
        "epochs = 20\n",
        "batch_size=100\n",
        "numWords"
      ],
      "execution_count": 67,
      "outputs": [
        {
          "output_type": "execute_result",
          "data": {
            "text/plain": [
              "12343"
            ]
          },
          "metadata": {
            "tags": []
          },
          "execution_count": 67
        }
      ]
    },
    {
      "cell_type": "code",
      "metadata": {
        "id": "k6Ih_FN2_xlD"
      },
      "source": [
        "# Try the BiLSTM model on the sampled data and predict the accuracy.\n",
        "\n",
        "# Tokenize\n",
        "tokenizer, X = wordTokenizer(df_to_process['New Description'])\n",
        "y = np.asarray(df_to_process['Assignment group ID'])\n",
        "X = pad_sequences(X,maxlen=max_len)"
      ],
      "execution_count": 68,
      "outputs": []
    },
    {
      "cell_type": "code",
      "metadata": {
        "id": "bXx3vrlQuVr9",
        "outputId": "59c5d17f-a9e1-4480-d0df-458558e97337",
        "colab": {
          "base_uri": "https://localhost:8080/"
        }
      },
      "source": [
        "# Create embedding matrix\n",
        "\n",
        "embedding_matrix = np.zeros((numWords+1,100))\n",
        "\n",
        "for i,word in tokenizer.index_word.items():\n",
        "  if i<numWords+1:\n",
        "    embedding_vector = embedding_indices.get(word)\n",
        "    if embedding_vector is not None:\n",
        "      embedding_matrix[i] = embedding_vector\n",
        "\n",
        "embedding_matrix"
      ],
      "execution_count": 69,
      "outputs": [
        {
          "output_type": "execute_result",
          "data": {
            "text/plain": [
              "array([[ 0.00000000e+00,  0.00000000e+00,  0.00000000e+00, ...,\n",
              "         0.00000000e+00,  0.00000000e+00,  0.00000000e+00],\n",
              "       [ 5.99873424e-01, -2.57000118e-01, -4.87879992e-01, ...,\n",
              "        -2.08699442e-02,  4.61962037e-02,  4.22586262e-01],\n",
              "       [-3.92475694e-01, -2.44557714e+00,  2.88843721e-01, ...,\n",
              "         9.56954286e-02,  8.79751682e-01,  1.72129810e+00],\n",
              "       ...,\n",
              "       [ 2.56217811e-02,  2.05228163e-04,  2.04505515e-04, ...,\n",
              "         1.31362993e-02, -8.81579053e-03,  1.50642991e-02],\n",
              "       [ 2.48573367e-02,  1.76155437e-02, -1.35491008e-03, ...,\n",
              "         1.36847105e-02, -1.47986528e-03,  7.98757933e-03],\n",
              "       [ 0.00000000e+00,  0.00000000e+00,  0.00000000e+00, ...,\n",
              "         0.00000000e+00,  0.00000000e+00,  0.00000000e+00]])"
            ]
          },
          "metadata": {
            "tags": []
          },
          "execution_count": 69
        }
      ]
    },
    {
      "cell_type": "code",
      "metadata": {
        "id": "xXqT-Q8cIO82"
      },
      "source": [
        "# Store the weights to an excel file\n",
        "\n",
        "LSTM_w2v_sampled_weights_df = pd.DataFrame(embedding_matrix)\n",
        "LSTM_w2v_sampled_weights_df.to_excel(project_path + 'LSTM_w2v_sampled_weights.xlsx', index = True)"
      ],
      "execution_count": 70,
      "outputs": []
    },
    {
      "cell_type": "code",
      "metadata": {
        "id": "YheKYV7quZet",
        "outputId": "3014f78b-37cb-43f8-b240-a960b5e36847",
        "colab": {
          "base_uri": "https://localhost:8080/"
        }
      },
      "source": [
        "# Perform the train-test split\n",
        "\n",
        "X_train, X_test, y_train, y_test = train_test_split(X,y,test_size = 0.3)\n",
        "X_train,X_test,y_train,y_test"
      ],
      "execution_count": 71,
      "outputs": [
        {
          "output_type": "execute_result",
          "data": {
            "text/plain": [
              "(array([[   0,    0,    0, ...,   13,    7,  220],\n",
              "        [   0,    0,    0, ...,   14,   43,   20],\n",
              "        [   0,    0,    0, ...,   32,   40,   38],\n",
              "        ...,\n",
              "        [  42,   35,   98, ...,    7,   25,  494],\n",
              "        [   0,    0,    0, ...,   87,   49, 1395],\n",
              "        [   0,    0,    0, ...,    2,   15, 1242]], dtype=int32),\n",
              " array([[    0,     0,     0, ...,     2,  4904,   600],\n",
              "        [    0,     0,     0, ...,   102,   197,  1991],\n",
              "        [    0,     0,     0, ...,     2,   217,   185],\n",
              "        ...,\n",
              "        [    0,     0,     0, ...,   454,  2247,   220],\n",
              "        [    0,     0,     0, ...,  1844,     4,   473],\n",
              "        [    0,     0,     0, ...,   210, 11538,  6777]], dtype=int32),\n",
              " array([10, 73,  8, ..., 52,  3, 14]),\n",
              " array([ 5, 67, 69, ..., 48,  7, 18]))"
            ]
          },
          "metadata": {
            "tags": []
          },
          "execution_count": 71
        }
      ]
    },
    {
      "cell_type": "code",
      "metadata": {
        "id": "6leC6fDzudb3",
        "outputId": "08bebc02-1c20-45d6-e5bf-1dd1ba1f902b",
        "colab": {
          "base_uri": "https://localhost:8080/"
        }
      },
      "source": [
        "# Build the Bi-LSTM model\n",
        "\n",
        "input_layer = Input(shape=(max_len,),dtype=tf.int64)\n",
        "embed = Embedding(numWords+1,output_dim=100,input_length=max_len,weights=[embedding_matrix], trainable=True)(input_layer)  #weights=[embedding_matrix]\n",
        "lstm=Bidirectional(LSTM(128))(embed)\n",
        "drop=Dropout(0.3)(lstm)\n",
        "dense =Dense(100,activation='relu')(drop)\n",
        "out=Dense((len((pd.Series(y_train)).unique())+1),activation='softmax')(dense)   \n",
        "\n",
        "model = Model(input_layer,out)\n",
        "model.compile(loss='sparse_categorical_crossentropy',optimizer=\"adam\",metrics=['accuracy'])\n",
        "\n",
        "model.summary()\n",
        "plot_model(model,to_file=project_path + \"Bi-LSTM(Word2Vec)_Sampled_Model.jpg\")\n",
        "\n",
        "checkpoint = ModelCheckpoint('model-{epoch:03d}-{val_accuracy:03f}.h5', verbose=1, monitor='val_accuracy',save_best_only=True, mode='auto') \n",
        "reduceLoss = ReduceLROnPlateau(monitor='val_loss', factor=0.2,patience=2, min_lr=0.0001)"
      ],
      "execution_count": 72,
      "outputs": [
        {
          "output_type": "stream",
          "text": [
            "Model: \"functional_5\"\n",
            "_________________________________________________________________\n",
            "Layer (type)                 Output Shape              Param #   \n",
            "=================================================================\n",
            "input_3 (InputLayer)         [(None, 300)]             0         \n",
            "_________________________________________________________________\n",
            "embedding_2 (Embedding)      (None, 300, 100)          1234400   \n",
            "_________________________________________________________________\n",
            "bidirectional_2 (Bidirection (None, 256)               234496    \n",
            "_________________________________________________________________\n",
            "dropout_2 (Dropout)          (None, 256)               0         \n",
            "_________________________________________________________________\n",
            "dense_4 (Dense)              (None, 100)               25700     \n",
            "_________________________________________________________________\n",
            "dense_5 (Dense)              (None, 75)                7575      \n",
            "=================================================================\n",
            "Total params: 1,502,171\n",
            "Trainable params: 1,502,171\n",
            "Non-trainable params: 0\n",
            "_________________________________________________________________\n"
          ],
          "name": "stdout"
        }
      ]
    },
    {
      "cell_type": "code",
      "metadata": {
        "id": "dxrS-3fn7Kp1",
        "outputId": "99d6572c-5c1c-473c-9fcf-60778892d746",
        "colab": {
          "base_uri": "https://localhost:8080/"
        }
      },
      "source": [
        "model_history = model.fit(X_train,y_train,batch_size=batch_size, epochs=epochs, callbacks=[checkpoint,reduceLoss], validation_data=(X_test,y_test))"
      ],
      "execution_count": 73,
      "outputs": [
        {
          "output_type": "stream",
          "text": [
            "Epoch 1/20\n",
            "334/335 [============================>.] - ETA: 0s - loss: 1.8200 - accuracy: 0.5671\n",
            "Epoch 00001: val_accuracy improved from -inf to 0.79188, saving model to model-001-0.791885.h5\n",
            "335/335 [==============================] - 22s 65ms/step - loss: 1.8201 - accuracy: 0.5670 - val_loss: 0.7712 - val_accuracy: 0.7919\n",
            "Epoch 2/20\n",
            "334/335 [============================>.] - ETA: 0s - loss: 0.5994 - accuracy: 0.8339\n",
            "Epoch 00002: val_accuracy improved from 0.79188 to 0.88128, saving model to model-002-0.881277.h5\n",
            "335/335 [==============================] - 21s 63ms/step - loss: 0.5993 - accuracy: 0.8339 - val_loss: 0.4104 - val_accuracy: 0.8813\n",
            "Epoch 3/20\n",
            "334/335 [============================>.] - ETA: 0s - loss: 0.3713 - accuracy: 0.8919\n",
            "Epoch 00003: val_accuracy improved from 0.88128 to 0.91040, saving model to model-003-0.910399.h5\n",
            "335/335 [==============================] - 21s 63ms/step - loss: 0.3712 - accuracy: 0.8920 - val_loss: 0.2961 - val_accuracy: 0.9104\n",
            "Epoch 4/20\n",
            "334/335 [============================>.] - ETA: 0s - loss: 0.2708 - accuracy: 0.9198\n",
            "Epoch 00004: val_accuracy improved from 0.91040 to 0.91948, saving model to model-004-0.919478.h5\n",
            "335/335 [==============================] - 21s 64ms/step - loss: 0.2708 - accuracy: 0.9198 - val_loss: 0.2595 - val_accuracy: 0.9195\n",
            "Epoch 5/20\n",
            "334/335 [============================>.] - ETA: 0s - loss: 0.2162 - accuracy: 0.9349\n",
            "Epoch 00005: val_accuracy improved from 0.91948 to 0.93568, saving model to model-005-0.935680.h5\n",
            "335/335 [==============================] - 21s 64ms/step - loss: 0.2162 - accuracy: 0.9348 - val_loss: 0.2102 - val_accuracy: 0.9357\n",
            "Epoch 6/20\n",
            "334/335 [============================>.] - ETA: 0s - loss: 0.1870 - accuracy: 0.9419\n",
            "Epoch 00006: val_accuracy improved from 0.93568 to 0.93959, saving model to model-006-0.939591.h5\n",
            "335/335 [==============================] - 21s 64ms/step - loss: 0.1871 - accuracy: 0.9419 - val_loss: 0.2013 - val_accuracy: 0.9396\n",
            "Epoch 7/20\n",
            "334/335 [============================>.] - ETA: 0s - loss: 0.1711 - accuracy: 0.9466\n",
            "Epoch 00007: val_accuracy improved from 0.93959 to 0.93987, saving model to model-007-0.939870.h5\n",
            "335/335 [==============================] - 22s 64ms/step - loss: 0.1711 - accuracy: 0.9466 - val_loss: 0.1917 - val_accuracy: 0.9399\n",
            "Epoch 8/20\n",
            "334/335 [============================>.] - ETA: 0s - loss: 0.1674 - accuracy: 0.9474\n",
            "Epoch 00008: val_accuracy improved from 0.93987 to 0.94029, saving model to model-008-0.940289.h5\n",
            "335/335 [==============================] - 22s 64ms/step - loss: 0.1674 - accuracy: 0.9474 - val_loss: 0.1977 - val_accuracy: 0.9403\n",
            "Epoch 9/20\n",
            "334/335 [============================>.] - ETA: 0s - loss: 0.2069 - accuracy: 0.9349\n",
            "Epoch 00009: val_accuracy improved from 0.94029 to 0.94162, saving model to model-009-0.941616.h5\n",
            "335/335 [==============================] - 22s 64ms/step - loss: 0.2071 - accuracy: 0.9349 - val_loss: 0.1999 - val_accuracy: 0.9416\n",
            "Epoch 10/20\n",
            "334/335 [============================>.] - ETA: 0s - loss: 0.1462 - accuracy: 0.9529\n",
            "Epoch 00010: val_accuracy improved from 0.94162 to 0.94595, saving model to model-010-0.945946.h5\n",
            "335/335 [==============================] - 21s 64ms/step - loss: 0.1462 - accuracy: 0.9529 - val_loss: 0.1711 - val_accuracy: 0.9459\n",
            "Epoch 11/20\n",
            "334/335 [============================>.] - ETA: 0s - loss: 0.1338 - accuracy: 0.9561\n",
            "Epoch 00011: val_accuracy improved from 0.94595 to 0.94895, saving model to model-011-0.948949.h5\n",
            "335/335 [==============================] - 22s 65ms/step - loss: 0.1338 - accuracy: 0.9561 - val_loss: 0.1681 - val_accuracy: 0.9489\n",
            "Epoch 12/20\n",
            "334/335 [============================>.] - ETA: 0s - loss: 0.1304 - accuracy: 0.9574\n",
            "Epoch 00012: val_accuracy did not improve from 0.94895\n",
            "335/335 [==============================] - 22s 65ms/step - loss: 0.1304 - accuracy: 0.9574 - val_loss: 0.1663 - val_accuracy: 0.9486\n",
            "Epoch 13/20\n",
            "334/335 [============================>.] - ETA: 0s - loss: 0.1241 - accuracy: 0.9589\n",
            "Epoch 00013: val_accuracy improved from 0.94895 to 0.94902, saving model to model-013-0.949019.h5\n",
            "335/335 [==============================] - 22s 65ms/step - loss: 0.1241 - accuracy: 0.9589 - val_loss: 0.1679 - val_accuracy: 0.9490\n",
            "Epoch 14/20\n",
            "334/335 [============================>.] - ETA: 0s - loss: 0.1229 - accuracy: 0.9588\n",
            "Epoch 00014: val_accuracy did not improve from 0.94902\n",
            "335/335 [==============================] - 22s 65ms/step - loss: 0.1229 - accuracy: 0.9588 - val_loss: 0.1655 - val_accuracy: 0.9487\n",
            "Epoch 15/20\n",
            "334/335 [============================>.] - ETA: 0s - loss: 0.1216 - accuracy: 0.9596\n",
            "Epoch 00015: val_accuracy did not improve from 0.94902\n",
            "335/335 [==============================] - 22s 65ms/step - loss: 0.1216 - accuracy: 0.9596 - val_loss: 0.1680 - val_accuracy: 0.9481\n",
            "Epoch 16/20\n",
            "334/335 [============================>.] - ETA: 0s - loss: 0.1209 - accuracy: 0.9595\n",
            "Epoch 00016: val_accuracy improved from 0.94902 to 0.94944, saving model to model-016-0.949438.h5\n",
            "335/335 [==============================] - 22s 65ms/step - loss: 0.1208 - accuracy: 0.9595 - val_loss: 0.1636 - val_accuracy: 0.9494\n",
            "Epoch 17/20\n",
            "334/335 [============================>.] - ETA: 0s - loss: 0.1170 - accuracy: 0.9608\n",
            "Epoch 00017: val_accuracy did not improve from 0.94944\n",
            "335/335 [==============================] - 22s 65ms/step - loss: 0.1170 - accuracy: 0.9608 - val_loss: 0.1674 - val_accuracy: 0.9494\n",
            "Epoch 18/20\n",
            "334/335 [============================>.] - ETA: 0s - loss: 0.1154 - accuracy: 0.9602\n",
            "Epoch 00018: val_accuracy did not improve from 0.94944\n",
            "335/335 [==============================] - 22s 65ms/step - loss: 0.1154 - accuracy: 0.9602 - val_loss: 0.1669 - val_accuracy: 0.9488\n",
            "Epoch 19/20\n",
            "334/335 [============================>.] - ETA: 0s - loss: 0.1128 - accuracy: 0.9618\n",
            "Epoch 00019: val_accuracy improved from 0.94944 to 0.95028, saving model to model-019-0.950276.h5\n",
            "335/335 [==============================] - 22s 65ms/step - loss: 0.1127 - accuracy: 0.9618 - val_loss: 0.1642 - val_accuracy: 0.9503\n",
            "Epoch 20/20\n",
            "334/335 [============================>.] - ETA: 0s - loss: 0.1123 - accuracy: 0.9623\n",
            "Epoch 00020: val_accuracy did not improve from 0.95028\n",
            "335/335 [==============================] - 22s 65ms/step - loss: 0.1123 - accuracy: 0.9623 - val_loss: 0.1655 - val_accuracy: 0.9501\n"
          ],
          "name": "stdout"
        }
      ]
    },
    {
      "cell_type": "code",
      "metadata": {
        "id": "IKdf_GSuj3uz"
      },
      "source": [
        "# predict probabilities for test set\n",
        "yhat_probs = model.predict(X_test, verbose=0)\n",
        "# predict crisp classes for test set\n",
        "# use argmax per Jason, instead of model.predict_classes if not available. https://machinelearningmastery.com/how-to-calculate-precision-recall-f1-and-more-for-deep-learning-models/\n",
        "yhat_classes = np.argmax(yhat_probs, axis=1)"
      ],
      "execution_count": 74,
      "outputs": []
    },
    {
      "cell_type": "code",
      "metadata": {
        "id": "bOMDVBWEj51o",
        "outputId": "fa2ca648-dd03-487c-84dd-b8bb90acca24",
        "colab": {
          "base_uri": "https://localhost:8080/"
        }
      },
      "source": [
        "# Generate the target label to plot the Confusion Matrix\n",
        "\n",
        "target_names = df_to_process['Assignment group'].unique()\n",
        "target_names"
      ],
      "execution_count": 75,
      "outputs": [
        {
          "output_type": "execute_result",
          "data": {
            "text/plain": [
              "array(['GRP_0', 'GRP_1', 'GRP_3', 'GRP_4', 'GRP_5', 'GRP_6', 'GRP_7',\n",
              "       'GRP_8', 'GRP_9', 'GRP_10', 'GRP_11', 'GRP_12', 'GRP_13', 'GRP_14',\n",
              "       'GRP_15', 'GRP_16', 'GRP_17', 'GRP_18', 'GRP_19', 'GRP_2',\n",
              "       'GRP_20', 'GRP_21', 'GRP_22', 'GRP_23', 'GRP_24', 'GRP_25',\n",
              "       'GRP_26', 'GRP_27', 'GRP_28', 'GRP_29', 'GRP_30', 'GRP_31',\n",
              "       'GRP_33', 'GRP_34', 'GRP_35', 'GRP_36', 'GRP_37', 'GRP_38',\n",
              "       'GRP_39', 'GRP_40', 'GRP_41', 'GRP_42', 'GRP_43', 'GRP_44',\n",
              "       'GRP_45', 'GRP_46', 'GRP_47', 'GRP_49', 'GRP_50', 'GRP_51',\n",
              "       'GRP_52', 'GRP_53', 'GRP_54', 'GRP_55', 'GRP_48', 'GRP_56',\n",
              "       'GRP_57', 'GRP_58', 'GRP_59', 'GRP_60', 'GRP_61', 'GRP_32',\n",
              "       'GRP_62', 'GRP_63', 'GRP_64', 'GRP_65', 'GRP_66', 'GRP_67',\n",
              "       'GRP_68', 'GRP_69', 'GRP_70', 'GRP_71', 'GRP_72', 'GRP_73'],\n",
              "      dtype=object)"
            ]
          },
          "metadata": {
            "tags": []
          },
          "execution_count": 75
        }
      ]
    },
    {
      "cell_type": "code",
      "metadata": {
        "id": "7PRwUwT5j8Dv",
        "outputId": "752621d7-0137-403a-a175-7d9214a772b3",
        "colab": {
          "base_uri": "https://localhost:8080/"
        }
      },
      "source": [
        "# Generate the Confusion Matrix\n",
        "matrix = confusion_matrix(y_test, yhat_classes)\n",
        "print(matrix)"
      ],
      "execution_count": 76,
      "outputs": [
        {
          "output_type": "stream",
          "text": [
            "[[129   0   0 ...   0   1   0]\n",
            " [  0 196   0 ...   0   0   0]\n",
            " [  0   0 188 ...   0   0   0]\n",
            " ...\n",
            " [  0   0   0 ... 172   0   0]\n",
            " [  0   1   0 ...   0 103   2]\n",
            " [  0   0   1 ...   0   0  66]]\n"
          ],
          "name": "stdout"
        }
      ]
    },
    {
      "cell_type": "code",
      "metadata": {
        "id": "t8PNRNK3j_Mg",
        "outputId": "103c80ad-3a61-4134-8123-81dcf84aa8da",
        "colab": {
          "base_uri": "https://localhost:8080/"
        }
      },
      "source": [
        "# Generate the Classification Report to print the class level accuracies, here, in the case of multiclass classification.\n",
        "\n",
        "print('Classification Report')\n",
        "print(classification_report(y_test, yhat_classes, target_names=target_names))\n"
      ],
      "execution_count": 77,
      "outputs": [
        {
          "output_type": "stream",
          "text": [
            "Classification Report\n",
            "              precision    recall  f1-score   support\n",
            "\n",
            "       GRP_0       0.86      0.62      0.72       208\n",
            "       GRP_1       0.88      1.00      0.94       196\n",
            "       GRP_3       0.99      0.91      0.95       206\n",
            "       GRP_4       0.98      1.00      0.99       179\n",
            "       GRP_5       0.93      0.85      0.89       207\n",
            "       GRP_6       0.99      0.93      0.96       203\n",
            "       GRP_7       0.96      0.99      0.97       196\n",
            "       GRP_8       1.00      1.00      1.00       191\n",
            "       GRP_9       0.97      1.00      0.98       200\n",
            "      GRP_10       0.99      1.00      1.00       180\n",
            "      GRP_11       0.99      0.97      0.98       182\n",
            "      GRP_12       0.94      0.92      0.93       200\n",
            "      GRP_13       0.87      0.90      0.88       179\n",
            "      GRP_14       1.00      1.00      1.00       194\n",
            "      GRP_15       1.00      1.00      1.00       187\n",
            "      GRP_16       0.98      1.00      0.99       191\n",
            "      GRP_17       0.99      1.00      0.99       210\n",
            "      GRP_18       1.00      0.97      0.99       180\n",
            "      GRP_19       0.98      0.99      0.99       175\n",
            "       GRP_2       0.98      1.00      0.99       208\n",
            "      GRP_20       0.99      1.00      1.00       194\n",
            "      GRP_21       0.95      1.00      0.97       195\n",
            "      GRP_22       0.99      0.96      0.97       190\n",
            "      GRP_23       0.91      0.96      0.93       164\n",
            "      GRP_24       0.97      0.90      0.93       200\n",
            "      GRP_25       0.99      0.96      0.98       221\n",
            "      GRP_26       1.00      1.00      1.00       192\n",
            "      GRP_27       0.96      0.98      0.97       219\n",
            "      GRP_28       0.97      0.98      0.97       182\n",
            "      GRP_29       1.00      1.00      1.00       172\n",
            "      GRP_30       1.00      1.00      1.00       183\n",
            "      GRP_31       1.00      1.00      1.00       198\n",
            "      GRP_33       1.00      1.00      1.00       179\n",
            "      GRP_34       0.98      1.00      0.99       213\n",
            "      GRP_35       0.97      0.95      0.96       197\n",
            "      GRP_36       0.99      1.00      0.99       191\n",
            "      GRP_37       1.00      1.00      1.00       202\n",
            "      GRP_38       1.00      1.00      1.00       175\n",
            "      GRP_39       1.00      1.00      1.00       201\n",
            "      GRP_40       0.97      0.94      0.95       188\n",
            "      GRP_41       1.00      0.83      0.91       170\n",
            "      GRP_42       1.00      1.00      1.00       198\n",
            "      GRP_43       0.74      0.96      0.83       204\n",
            "      GRP_44       0.90      1.00      0.95       206\n",
            "      GRP_45       1.00      1.00      1.00       191\n",
            "      GRP_46       0.96      0.68      0.79       194\n",
            "      GRP_47       0.98      1.00      0.99       194\n",
            "      GRP_49       1.00      1.00      1.00       196\n",
            "      GRP_50       1.00      1.00      1.00       186\n",
            "      GRP_51       1.00      1.00      1.00       189\n",
            "      GRP_52       1.00      1.00      1.00       209\n",
            "      GRP_53       1.00      1.00      1.00       189\n",
            "      GRP_54       1.00      1.00      1.00       192\n",
            "      GRP_55       0.34      1.00      0.51       187\n",
            "      GRP_48       1.00      1.00      1.00       198\n",
            "      GRP_56       1.00      1.00      1.00       181\n",
            "      GRP_57       0.91      0.62      0.74       211\n",
            "      GRP_58       0.99      0.88      0.93       206\n",
            "      GRP_59       1.00      1.00      1.00       218\n",
            "      GRP_60       0.99      1.00      0.99       202\n",
            "      GRP_61       1.00      1.00      1.00       194\n",
            "      GRP_32       1.00      1.00      1.00       182\n",
            "      GRP_62       1.00      1.00      1.00       216\n",
            "      GRP_63       1.00      1.00      1.00       174\n",
            "      GRP_64       1.00      1.00      1.00       183\n",
            "      GRP_65       1.00      1.00      1.00       192\n",
            "      GRP_66       0.97      1.00      0.98       163\n",
            "      GRP_67       0.98      1.00      0.99       196\n",
            "      GRP_68       1.00      1.00      1.00       191\n",
            "      GRP_69       1.00      1.00      1.00       185\n",
            "      GRP_70       1.00      1.00      1.00       206\n",
            "      GRP_71       1.00      1.00      1.00       172\n",
            "      GRP_72       0.87      0.49      0.63       209\n",
            "      GRP_73       0.97      0.32      0.48       207\n",
            "\n",
            "    accuracy                           0.95     14319\n",
            "   macro avg       0.97      0.95      0.95     14319\n",
            "weighted avg       0.97      0.95      0.95     14319\n",
            "\n"
          ],
          "name": "stdout"
        }
      ]
    },
    {
      "cell_type": "code",
      "metadata": {
        "id": "JTWYo4V2kCcI",
        "outputId": "5a27693f-06f1-47f2-906b-51cbececdbfe",
        "colab": {
          "base_uri": "https://localhost:8080/",
          "height": 324
        }
      },
      "source": [
        "# Plot the Confusion matrix\n",
        "\n",
        "ax= plt.subplot()\n",
        "#plt.subplots(figsize=(10,10))\n",
        "sns.heatmap(matrix,annot=True,ax=ax,cmap='Blues',fmt='d');\n",
        "ax.set_xlabel('Predicted labels');ax.set_ylabel('True/Actual labels');\n",
        "ax.set_title('Confusion Matrix');\n",
        "ax.xaxis.set_ticklabels(target_names);\n",
        "ax.yaxis.set_ticklabels(target_names);"
      ],
      "execution_count": 78,
      "outputs": [
        {
          "output_type": "display_data",
          "data": {
            "image/png": "[encoded data removed]",
            "text/plain": [
              "<Figure size 432x288 with 2 Axes>"
            ]
          },
          "metadata": {
            "tags": [],
            "needs_background": "light"
          }
        }
      ]
    },
    {
      "cell_type": "code",
      "metadata": {
        "id": "H1s667stkEkR",
        "outputId": "13582e74-ff2f-4195-aefa-39959e61ff11",
        "colab": {
          "base_uri": "https://localhost:8080/"
        }
      },
      "source": [
        "# Summarize the accuracies\n",
        "\n",
        "from sklearn.metrics import accuracy_score\n",
        "\n",
        "accuracy = accuracy_score(y_test, yhat_classes)\n",
        "print('Accuracy: %f' % accuracy)\n",
        "precision = precision_score(y_test, yhat_classes, average='micro')\n",
        "print('Precision: %f' % precision)\n",
        "recall = recall_score(y_test, yhat_classes, average='micro')\n",
        "print('Recall: %f' % recall)\n",
        "f1 = f1_score(y_test, yhat_classes,average='micro')\n",
        "print('F1 score: %f' % f1)"
      ],
      "execution_count": 79,
      "outputs": [
        {
          "output_type": "stream",
          "text": [
            "Accuracy: 0.950136\n",
            "Precision: 0.950136\n",
            "Recall: 0.950136\n",
            "F1 score: 0.950136\n"
          ],
          "name": "stdout"
        }
      ]
    },
    {
      "cell_type": "code",
      "metadata": {
        "id": "oF3cnBr9VF_o",
        "outputId": "a22d2384-7c7e-4e01-ef29-aed551ab1589",
        "colab": {
          "base_uri": "https://localhost:8080/",
          "height": 295
        }
      },
      "source": [
        "# Plot model losses\n",
        "\n",
        "loss_values = model_history.history['loss']\n",
        "val_loss_values = model_history.history['val_loss']\n",
        "\n",
        "epochs = range(1, len(loss_values) + 1)\n",
        "\n",
        "plt.plot(epochs, loss_values, 'bo', label=\"Training Loss\")\n",
        "plt.plot(epochs, val_loss_values, 'b', label=\"Validation Loss\")\n",
        "\n",
        "plt.title('Bi-LSTM(Word2Vec) on sampled data - Training and Validation Loss')\n",
        "plt.xlabel('Epochs')\n",
        "plt.ylabel('Loss Value')\n",
        "plt.legend()\n",
        "\n",
        "plt.show()"
      ],
      "execution_count": 80,
      "outputs": [
        {
          "output_type": "display_data",
          "data": {
            "image/png": "[encoded data removed]",
            "text/plain": [
              "<Figure size 432x288 with 1 Axes>"
            ]
          },
          "metadata": {
            "tags": [],
            "needs_background": "light"
          }
        }
      ]
    },
    {
      "cell_type": "code",
      "metadata": {
        "id": "Pn7-u41URKxq",
        "outputId": "84b9308c-4ae1-47dd-be2d-4afe2475c805",
        "colab": {
          "base_uri": "https://localhost:8080/",
          "height": 295
        }
      },
      "source": [
        "# Plot training and validation accuracies\n",
        "\n",
        "acc_values = model_history.history['accuracy']\n",
        "val_acc_values = model_history.history['val_accuracy']\n",
        "\n",
        "epochs = range(1, len(loss_values) + 1)\n",
        "\n",
        "plt.plot(epochs, acc_values, 'ro', label=\"Training Accuracy\")\n",
        "plt.plot(epochs, val_acc_values, 'r', label=\"Validation Accuracy\")\n",
        "\n",
        "plt.title('Bi-LSTM(Word2Vec) on sampled data - Training and Validation Accuraccy')\n",
        "plt.xlabel('Epochs')\n",
        "plt.ylabel('Accuracy')\n",
        "plt.legend()\n",
        "\n",
        "plt.show()"
      ],
      "execution_count": 81,
      "outputs": [
        {
          "output_type": "display_data",
          "data": {
            "image/png": "[encoded data removed]",
            "text/plain": [
              "<Figure size 432x288 with 1 Axes>"
            ]
          },
          "metadata": {
            "tags": [],
            "needs_background": "light"
          }
        }
      ]
    },
    {
      "cell_type": "code",
      "metadata": {
        "id": "pnbwRktGU7mG",
        "outputId": "728b5728-6bad-4f0e-f56e-65cff6e16137",
        "colab": {
          "base_uri": "https://localhost:8080/",
          "height": 669
        }
      },
      "source": [
        "# Summarize the model history\n",
        "\n",
        "model_df = pd.DataFrame(model_history.history)\n",
        "model_df"
      ],
      "execution_count": 82,
      "outputs": [
        {
          "output_type": "execute_result",
          "data": {
            "text/html": [
              "<div>\n",
              "<style scoped>\n",
              "    .dataframe tbody tr th:only-of-type {\n",
              "        vertical-align: middle;\n",
              "    }\n",
              "\n",
              "    .dataframe tbody tr th {\n",
              "        vertical-align: top;\n",
              "    }\n",
              "\n",
              "    .dataframe thead th {\n",
              "        text-align: right;\n",
              "    }\n",
              "</style>\n",
              "<table border=\"1\" class=\"dataframe\">\n",
              "  <thead>\n",
              "    <tr style=\"text-align: right;\">\n",
              "      <th></th>\n",
              "      <th>loss</th>\n",
              "      <th>accuracy</th>\n",
              "      <th>val_loss</th>\n",
              "      <th>val_accuracy</th>\n",
              "      <th>lr</th>\n",
              "    </tr>\n",
              "  </thead>\n",
              "  <tbody>\n",
              "    <tr>\n",
              "      <th>0</th>\n",
              "      <td>1.820108</td>\n",
              "      <td>0.566999</td>\n",
              "      <td>0.771188</td>\n",
              "      <td>0.791885</td>\n",
              "      <td>0.0010</td>\n",
              "    </tr>\n",
              "    <tr>\n",
              "      <th>1</th>\n",
              "      <td>0.599273</td>\n",
              "      <td>0.833947</td>\n",
              "      <td>0.410437</td>\n",
              "      <td>0.881277</td>\n",
              "      <td>0.0010</td>\n",
              "    </tr>\n",
              "    <tr>\n",
              "      <th>2</th>\n",
              "      <td>0.371160</td>\n",
              "      <td>0.891952</td>\n",
              "      <td>0.296099</td>\n",
              "      <td>0.910399</td>\n",
              "      <td>0.0010</td>\n",
              "    </tr>\n",
              "    <tr>\n",
              "      <th>3</th>\n",
              "      <td>0.270763</td>\n",
              "      <td>0.919817</td>\n",
              "      <td>0.259521</td>\n",
              "      <td>0.919478</td>\n",
              "      <td>0.0010</td>\n",
              "    </tr>\n",
              "    <tr>\n",
              "      <th>4</th>\n",
              "      <td>0.216182</td>\n",
              "      <td>0.934812</td>\n",
              "      <td>0.210211</td>\n",
              "      <td>0.935680</td>\n",
              "      <td>0.0010</td>\n",
              "    </tr>\n",
              "    <tr>\n",
              "      <th>5</th>\n",
              "      <td>0.187062</td>\n",
              "      <td>0.941905</td>\n",
              "      <td>0.201337</td>\n",
              "      <td>0.939591</td>\n",
              "      <td>0.0010</td>\n",
              "    </tr>\n",
              "    <tr>\n",
              "      <th>6</th>\n",
              "      <td>0.171066</td>\n",
              "      <td>0.946604</td>\n",
              "      <td>0.191683</td>\n",
              "      <td>0.939870</td>\n",
              "      <td>0.0010</td>\n",
              "    </tr>\n",
              "    <tr>\n",
              "      <th>7</th>\n",
              "      <td>0.167370</td>\n",
              "      <td>0.947442</td>\n",
              "      <td>0.197675</td>\n",
              "      <td>0.940289</td>\n",
              "      <td>0.0010</td>\n",
              "    </tr>\n",
              "    <tr>\n",
              "      <th>8</th>\n",
              "      <td>0.207073</td>\n",
              "      <td>0.934872</td>\n",
              "      <td>0.199867</td>\n",
              "      <td>0.941616</td>\n",
              "      <td>0.0010</td>\n",
              "    </tr>\n",
              "    <tr>\n",
              "      <th>9</th>\n",
              "      <td>0.146212</td>\n",
              "      <td>0.952890</td>\n",
              "      <td>0.171111</td>\n",
              "      <td>0.945946</td>\n",
              "      <td>0.0002</td>\n",
              "    </tr>\n",
              "    <tr>\n",
              "      <th>10</th>\n",
              "      <td>0.133810</td>\n",
              "      <td>0.956092</td>\n",
              "      <td>0.168065</td>\n",
              "      <td>0.948949</td>\n",
              "      <td>0.0002</td>\n",
              "    </tr>\n",
              "    <tr>\n",
              "      <th>11</th>\n",
              "      <td>0.130367</td>\n",
              "      <td>0.957439</td>\n",
              "      <td>0.166273</td>\n",
              "      <td>0.948600</td>\n",
              "      <td>0.0002</td>\n",
              "    </tr>\n",
              "    <tr>\n",
              "      <th>12</th>\n",
              "      <td>0.124093</td>\n",
              "      <td>0.958936</td>\n",
              "      <td>0.167935</td>\n",
              "      <td>0.949019</td>\n",
              "      <td>0.0002</td>\n",
              "    </tr>\n",
              "    <tr>\n",
              "      <th>13</th>\n",
              "      <td>0.122936</td>\n",
              "      <td>0.958816</td>\n",
              "      <td>0.165489</td>\n",
              "      <td>0.948739</td>\n",
              "      <td>0.0002</td>\n",
              "    </tr>\n",
              "    <tr>\n",
              "      <th>14</th>\n",
              "      <td>0.121579</td>\n",
              "      <td>0.959624</td>\n",
              "      <td>0.168001</td>\n",
              "      <td>0.948111</td>\n",
              "      <td>0.0002</td>\n",
              "    </tr>\n",
              "    <tr>\n",
              "      <th>15</th>\n",
              "      <td>0.120823</td>\n",
              "      <td>0.959474</td>\n",
              "      <td>0.163602</td>\n",
              "      <td>0.949438</td>\n",
              "      <td>0.0002</td>\n",
              "    </tr>\n",
              "    <tr>\n",
              "      <th>16</th>\n",
              "      <td>0.117007</td>\n",
              "      <td>0.960791</td>\n",
              "      <td>0.167374</td>\n",
              "      <td>0.949368</td>\n",
              "      <td>0.0002</td>\n",
              "    </tr>\n",
              "    <tr>\n",
              "      <th>17</th>\n",
              "      <td>0.115380</td>\n",
              "      <td>0.960193</td>\n",
              "      <td>0.166939</td>\n",
              "      <td>0.948809</td>\n",
              "      <td>0.0002</td>\n",
              "    </tr>\n",
              "    <tr>\n",
              "      <th>18</th>\n",
              "      <td>0.112731</td>\n",
              "      <td>0.961779</td>\n",
              "      <td>0.164172</td>\n",
              "      <td>0.950276</td>\n",
              "      <td>0.0001</td>\n",
              "    </tr>\n",
              "    <tr>\n",
              "      <th>19</th>\n",
              "      <td>0.112321</td>\n",
              "      <td>0.962288</td>\n",
              "      <td>0.165474</td>\n",
              "      <td>0.950136</td>\n",
              "      <td>0.0001</td>\n",
              "    </tr>\n",
              "  </tbody>\n",
              "</table>\n",
              "</div>"
            ],
            "text/plain": [
              "        loss  accuracy  val_loss  val_accuracy      lr\n",
              "0   1.820108  0.566999  0.771188      0.791885  0.0010\n",
              "1   0.599273  0.833947  0.410437      0.881277  0.0010\n",
              "2   0.371160  0.891952  0.296099      0.910399  0.0010\n",
              "3   0.270763  0.919817  0.259521      0.919478  0.0010\n",
              "4   0.216182  0.934812  0.210211      0.935680  0.0010\n",
              "5   0.187062  0.941905  0.201337      0.939591  0.0010\n",
              "6   0.171066  0.946604  0.191683      0.939870  0.0010\n",
              "7   0.167370  0.947442  0.197675      0.940289  0.0010\n",
              "8   0.207073  0.934872  0.199867      0.941616  0.0010\n",
              "9   0.146212  0.952890  0.171111      0.945946  0.0002\n",
              "10  0.133810  0.956092  0.168065      0.948949  0.0002\n",
              "11  0.130367  0.957439  0.166273      0.948600  0.0002\n",
              "12  0.124093  0.958936  0.167935      0.949019  0.0002\n",
              "13  0.122936  0.958816  0.165489      0.948739  0.0002\n",
              "14  0.121579  0.959624  0.168001      0.948111  0.0002\n",
              "15  0.120823  0.959474  0.163602      0.949438  0.0002\n",
              "16  0.117007  0.960791  0.167374      0.949368  0.0002\n",
              "17  0.115380  0.960193  0.166939      0.948809  0.0002\n",
              "18  0.112731  0.961779  0.164172      0.950276  0.0001\n",
              "19  0.112321  0.962288  0.165474      0.950136  0.0001"
            ]
          },
          "metadata": {
            "tags": []
          },
          "execution_count": 82
        }
      ]
    },
    {
      "cell_type": "code",
      "metadata": {
        "id": "mPG-tPh9GaMB"
      },
      "source": [
        "# Thank you"
      ],
      "execution_count": 38,
      "outputs": []
    }
  ]
}